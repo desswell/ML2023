{
 "cells": [
  {
   "cell_type": "code",
   "execution_count": 1,
   "id": "bd8c01ec",
   "metadata": {},
   "outputs": [
    {
     "name": "stdout",
     "output_type": "stream",
     "text": [
      "Requirement already satisfied: graphviz in /Users/alex/PycharmProjects/ml/venv/lib/python3.11/site-packages (0.20.1)\n",
      "\u001b[33mWARNING: You are using pip version 21.3.1; however, version 23.1.1 is available.\n",
      "You should consider upgrading via the '/Users/alex/PycharmProjects/ml/venv/bin/python -m pip install --upgrade pip' command.\u001b[0m\n",
      "Note: you may need to restart the kernel to use updated packages.\n"
     ]
    }
   ],
   "source": [
    "%pip install graphviz"
   ]
  },
  {
   "cell_type": "code",
   "execution_count": 2,
   "id": "cbc9ef60",
   "metadata": {},
   "outputs": [
    {
     "name": "stdout",
     "output_type": "stream",
     "text": [
      "Requirement already satisfied: pydotplus in /Users/alex/PycharmProjects/ml/venv/lib/python3.11/site-packages (2.0.2)\n",
      "Requirement already satisfied: pyparsing>=2.0.1 in /Users/alex/PycharmProjects/ml/venv/lib/python3.11/site-packages (from pydotplus) (3.0.9)\n",
      "\u001b[33mWARNING: You are using pip version 21.3.1; however, version 23.1.1 is available.\n",
      "You should consider upgrading via the '/Users/alex/PycharmProjects/ml/venv/bin/python -m pip install --upgrade pip' command.\u001b[0m\n",
      "Note: you may need to restart the kernel to use updated packages.\n"
     ]
    }
   ],
   "source": [
    "%pip install pydotplus"
   ]
  },
  {
   "cell_type": "markdown",
   "id": "647d8059",
   "metadata": {},
   "source": [
    "## Предварительный анализ \n",
    "### Загрузим необходимые библиотеки "
   ]
  },
  {
   "cell_type": "code",
   "execution_count": 3,
   "id": "96283d7d",
   "metadata": {},
   "outputs": [],
   "source": [
    "from io import StringIO \n",
    "from IPython.display import Image\n",
    "import graphviz \n",
    "import pydotplus\n",
    "import numpy as np\n",
    "import pandas as pd\n",
    "from typing import Dict, Tuple\n",
    "from sklearn.tree import DecisionTreeClassifier, DecisionTreeRegressor, export_graphviz\n",
    "from sklearn.model_selection import train_test_split\n",
    "from sklearn.model_selection import GridSearchCV\n",
    "from sklearn.ensemble import RandomForestRegressor, GradientBoostingRegressor\n",
    "from sklearn.ensemble import RandomForestClassifier, GradientBoostingClassifier\n",
    "from sklearn.preprocessing import StandardScaler\n",
    "from sklearn.linear_model import LinearRegression\n",
    "from sklearn.metrics import accuracy_score, precision_score, recall_score, f1_score\n",
    "from sklearn.metrics import mean_absolute_error\n",
    "from sklearn.metrics import median_absolute_error, r2_score\n",
    "from sklearn.svm import NuSVR\n",
    "from sklearn import tree\n",
    "import matplotlib.pyplot as plt\n",
    "%matplotlib inline "
   ]
  },
  {
   "cell_type": "code",
   "execution_count": 4,
   "id": "372087f8",
   "metadata": {},
   "outputs": [],
   "source": [
    "df = pd.read_csv('country_wise_latest.csv')"
   ]
  },
  {
   "cell_type": "code",
   "execution_count": 5,
   "id": "186a2f91",
   "metadata": {},
   "outputs": [
    {
     "data": {
      "text/html": [
       "<div>\n",
       "<style scoped>\n",
       "    .dataframe tbody tr th:only-of-type {\n",
       "        vertical-align: middle;\n",
       "    }\n",
       "\n",
       "    .dataframe tbody tr th {\n",
       "        vertical-align: top;\n",
       "    }\n",
       "\n",
       "    .dataframe thead th {\n",
       "        text-align: right;\n",
       "    }\n",
       "</style>\n",
       "<table border=\"1\" class=\"dataframe\">\n",
       "  <thead>\n",
       "    <tr style=\"text-align: right;\">\n",
       "      <th></th>\n",
       "      <th>Country/Region</th>\n",
       "      <th>Confirmed</th>\n",
       "      <th>Deaths</th>\n",
       "      <th>Recovered</th>\n",
       "      <th>Active</th>\n",
       "      <th>New cases</th>\n",
       "      <th>New deaths</th>\n",
       "      <th>New recovered</th>\n",
       "      <th>Deaths / 100 Cases</th>\n",
       "      <th>Recovered / 100 Cases</th>\n",
       "      <th>Deaths / 100 Recovered</th>\n",
       "      <th>Confirmed last week</th>\n",
       "      <th>1 week change</th>\n",
       "      <th>1 week % increase</th>\n",
       "      <th>WHO Region</th>\n",
       "    </tr>\n",
       "  </thead>\n",
       "  <tbody>\n",
       "    <tr>\n",
       "      <th>0</th>\n",
       "      <td>Afghanistan</td>\n",
       "      <td>36263</td>\n",
       "      <td>1269</td>\n",
       "      <td>25198</td>\n",
       "      <td>9796</td>\n",
       "      <td>106</td>\n",
       "      <td>10</td>\n",
       "      <td>18</td>\n",
       "      <td>3.50</td>\n",
       "      <td>69.49</td>\n",
       "      <td>5.04</td>\n",
       "      <td>35526</td>\n",
       "      <td>737</td>\n",
       "      <td>2.07</td>\n",
       "      <td>Eastern Mediterranean</td>\n",
       "    </tr>\n",
       "    <tr>\n",
       "      <th>1</th>\n",
       "      <td>Albania</td>\n",
       "      <td>4880</td>\n",
       "      <td>144</td>\n",
       "      <td>2745</td>\n",
       "      <td>1991</td>\n",
       "      <td>117</td>\n",
       "      <td>6</td>\n",
       "      <td>63</td>\n",
       "      <td>2.95</td>\n",
       "      <td>56.25</td>\n",
       "      <td>5.25</td>\n",
       "      <td>4171</td>\n",
       "      <td>709</td>\n",
       "      <td>17.00</td>\n",
       "      <td>Europe</td>\n",
       "    </tr>\n",
       "    <tr>\n",
       "      <th>2</th>\n",
       "      <td>Algeria</td>\n",
       "      <td>27973</td>\n",
       "      <td>1163</td>\n",
       "      <td>18837</td>\n",
       "      <td>7973</td>\n",
       "      <td>616</td>\n",
       "      <td>8</td>\n",
       "      <td>749</td>\n",
       "      <td>4.16</td>\n",
       "      <td>67.34</td>\n",
       "      <td>6.17</td>\n",
       "      <td>23691</td>\n",
       "      <td>4282</td>\n",
       "      <td>18.07</td>\n",
       "      <td>Africa</td>\n",
       "    </tr>\n",
       "    <tr>\n",
       "      <th>3</th>\n",
       "      <td>Andorra</td>\n",
       "      <td>907</td>\n",
       "      <td>52</td>\n",
       "      <td>803</td>\n",
       "      <td>52</td>\n",
       "      <td>10</td>\n",
       "      <td>0</td>\n",
       "      <td>0</td>\n",
       "      <td>5.73</td>\n",
       "      <td>88.53</td>\n",
       "      <td>6.48</td>\n",
       "      <td>884</td>\n",
       "      <td>23</td>\n",
       "      <td>2.60</td>\n",
       "      <td>Europe</td>\n",
       "    </tr>\n",
       "    <tr>\n",
       "      <th>4</th>\n",
       "      <td>Angola</td>\n",
       "      <td>950</td>\n",
       "      <td>41</td>\n",
       "      <td>242</td>\n",
       "      <td>667</td>\n",
       "      <td>18</td>\n",
       "      <td>1</td>\n",
       "      <td>0</td>\n",
       "      <td>4.32</td>\n",
       "      <td>25.47</td>\n",
       "      <td>16.94</td>\n",
       "      <td>749</td>\n",
       "      <td>201</td>\n",
       "      <td>26.84</td>\n",
       "      <td>Africa</td>\n",
       "    </tr>\n",
       "  </tbody>\n",
       "</table>\n",
       "</div>"
      ],
      "text/plain": [
       "  Country/Region  Confirmed  Deaths  Recovered  Active  New cases  New deaths   \n",
       "0    Afghanistan      36263    1269      25198    9796        106          10  \\\n",
       "1        Albania       4880     144       2745    1991        117           6   \n",
       "2        Algeria      27973    1163      18837    7973        616           8   \n",
       "3        Andorra        907      52        803      52         10           0   \n",
       "4         Angola        950      41        242     667         18           1   \n",
       "\n",
       "   New recovered  Deaths / 100 Cases  Recovered / 100 Cases   \n",
       "0             18                3.50                  69.49  \\\n",
       "1             63                2.95                  56.25   \n",
       "2            749                4.16                  67.34   \n",
       "3              0                5.73                  88.53   \n",
       "4              0                4.32                  25.47   \n",
       "\n",
       "   Deaths / 100 Recovered  Confirmed last week  1 week change   \n",
       "0                    5.04                35526            737  \\\n",
       "1                    5.25                 4171            709   \n",
       "2                    6.17                23691           4282   \n",
       "3                    6.48                  884             23   \n",
       "4                   16.94                  749            201   \n",
       "\n",
       "   1 week % increase             WHO Region  \n",
       "0               2.07  Eastern Mediterranean  \n",
       "1              17.00                 Europe  \n",
       "2              18.07                 Africa  \n",
       "3               2.60                 Europe  \n",
       "4              26.84                 Africa  "
      ]
     },
     "execution_count": 5,
     "metadata": {},
     "output_type": "execute_result"
    }
   ],
   "source": [
    "df.head()"
   ]
  },
  {
   "cell_type": "markdown",
   "id": "2902a389",
   "metadata": {},
   "source": [
    "### Изучим полученные данные"
   ]
  },
  {
   "cell_type": "code",
   "execution_count": 6,
   "id": "5d7b6116",
   "metadata": {},
   "outputs": [
    {
     "name": "stdout",
     "output_type": "stream",
     "text": [
      "<class 'pandas.core.frame.DataFrame'>\n",
      "RangeIndex: 187 entries, 0 to 186\n",
      "Data columns (total 15 columns):\n",
      " #   Column                  Non-Null Count  Dtype  \n",
      "---  ------                  --------------  -----  \n",
      " 0   Country/Region          187 non-null    object \n",
      " 1   Confirmed               187 non-null    int64  \n",
      " 2   Deaths                  187 non-null    int64  \n",
      " 3   Recovered               187 non-null    int64  \n",
      " 4   Active                  187 non-null    int64  \n",
      " 5   New cases               187 non-null    int64  \n",
      " 6   New deaths              187 non-null    int64  \n",
      " 7   New recovered           187 non-null    int64  \n",
      " 8   Deaths / 100 Cases      187 non-null    float64\n",
      " 9   Recovered / 100 Cases   187 non-null    float64\n",
      " 10  Deaths / 100 Recovered  187 non-null    float64\n",
      " 11  Confirmed last week     187 non-null    int64  \n",
      " 12  1 week change           187 non-null    int64  \n",
      " 13  1 week % increase       187 non-null    float64\n",
      " 14  WHO Region              187 non-null    object \n",
      "dtypes: float64(4), int64(9), object(2)\n",
      "memory usage: 22.0+ KB\n"
     ]
    }
   ],
   "source": [
    "df.info()"
   ]
  },
  {
   "cell_type": "code",
   "execution_count": 7,
   "id": "dca51830",
   "metadata": {},
   "outputs": [
    {
     "data": {
      "text/plain": [
       "Country/Region            0\n",
       "Confirmed                 0\n",
       "Deaths                    0\n",
       "Recovered                 0\n",
       "Active                    0\n",
       "New cases                 0\n",
       "New deaths                0\n",
       "New recovered             0\n",
       "Deaths / 100 Cases        0\n",
       "Recovered / 100 Cases     0\n",
       "Deaths / 100 Recovered    0\n",
       "Confirmed last week       0\n",
       "1 week change             0\n",
       "1 week % increase         0\n",
       "WHO Region                0\n",
       "dtype: int64"
      ]
     },
     "execution_count": 7,
     "metadata": {},
     "output_type": "execute_result"
    }
   ],
   "source": [
    "df.isna().sum()"
   ]
  },
  {
   "cell_type": "markdown",
   "id": "b9122952",
   "metadata": {},
   "source": [
    "## С использованием метода train_test_split разделим выборку на обучающую и тестовую.\n",
    "### Построим модель бинарной классификации пользователей, где целевой признак - факт оттока пользователя в следующем месяце."
   ]
  },
  {
   "cell_type": "code",
   "execution_count": 8,
   "id": "59e1bdba",
   "metadata": {},
   "outputs": [
    {
     "data": {
      "text/html": [
       "<div>\n",
       "<style scoped>\n",
       "    .dataframe tbody tr th:only-of-type {\n",
       "        vertical-align: middle;\n",
       "    }\n",
       "\n",
       "    .dataframe tbody tr th {\n",
       "        vertical-align: top;\n",
       "    }\n",
       "\n",
       "    .dataframe thead th {\n",
       "        text-align: right;\n",
       "    }\n",
       "</style>\n",
       "<table border=\"1\" class=\"dataframe\">\n",
       "  <thead>\n",
       "    <tr style=\"text-align: right;\">\n",
       "      <th></th>\n",
       "      <th>Confirmed</th>\n",
       "      <th>Deaths</th>\n",
       "      <th>Recovered</th>\n",
       "      <th>Active</th>\n",
       "      <th>New cases</th>\n",
       "      <th>New deaths</th>\n",
       "      <th>New recovered</th>\n",
       "      <th>Deaths / 100 Cases</th>\n",
       "      <th>Recovered / 100 Cases</th>\n",
       "      <th>Confirmed last week</th>\n",
       "      <th>1 week change</th>\n",
       "      <th>1 week % increase</th>\n",
       "      <th>WHO Region_cat</th>\n",
       "      <th>Country/Regioncat</th>\n",
       "    </tr>\n",
       "  </thead>\n",
       "  <tbody>\n",
       "    <tr>\n",
       "      <th>0</th>\n",
       "      <td>36263</td>\n",
       "      <td>1269</td>\n",
       "      <td>25198</td>\n",
       "      <td>9796</td>\n",
       "      <td>106</td>\n",
       "      <td>10</td>\n",
       "      <td>18</td>\n",
       "      <td>3.50</td>\n",
       "      <td>69.49</td>\n",
       "      <td>35526</td>\n",
       "      <td>737</td>\n",
       "      <td>2.07</td>\n",
       "      <td>2</td>\n",
       "      <td>0</td>\n",
       "    </tr>\n",
       "    <tr>\n",
       "      <th>1</th>\n",
       "      <td>4880</td>\n",
       "      <td>144</td>\n",
       "      <td>2745</td>\n",
       "      <td>1991</td>\n",
       "      <td>117</td>\n",
       "      <td>6</td>\n",
       "      <td>63</td>\n",
       "      <td>2.95</td>\n",
       "      <td>56.25</td>\n",
       "      <td>4171</td>\n",
       "      <td>709</td>\n",
       "      <td>17.00</td>\n",
       "      <td>3</td>\n",
       "      <td>1</td>\n",
       "    </tr>\n",
       "    <tr>\n",
       "      <th>2</th>\n",
       "      <td>27973</td>\n",
       "      <td>1163</td>\n",
       "      <td>18837</td>\n",
       "      <td>7973</td>\n",
       "      <td>616</td>\n",
       "      <td>8</td>\n",
       "      <td>749</td>\n",
       "      <td>4.16</td>\n",
       "      <td>67.34</td>\n",
       "      <td>23691</td>\n",
       "      <td>4282</td>\n",
       "      <td>18.07</td>\n",
       "      <td>0</td>\n",
       "      <td>2</td>\n",
       "    </tr>\n",
       "    <tr>\n",
       "      <th>3</th>\n",
       "      <td>907</td>\n",
       "      <td>52</td>\n",
       "      <td>803</td>\n",
       "      <td>52</td>\n",
       "      <td>10</td>\n",
       "      <td>0</td>\n",
       "      <td>0</td>\n",
       "      <td>5.73</td>\n",
       "      <td>88.53</td>\n",
       "      <td>884</td>\n",
       "      <td>23</td>\n",
       "      <td>2.60</td>\n",
       "      <td>3</td>\n",
       "      <td>3</td>\n",
       "    </tr>\n",
       "    <tr>\n",
       "      <th>4</th>\n",
       "      <td>950</td>\n",
       "      <td>41</td>\n",
       "      <td>242</td>\n",
       "      <td>667</td>\n",
       "      <td>18</td>\n",
       "      <td>1</td>\n",
       "      <td>0</td>\n",
       "      <td>4.32</td>\n",
       "      <td>25.47</td>\n",
       "      <td>749</td>\n",
       "      <td>201</td>\n",
       "      <td>26.84</td>\n",
       "      <td>0</td>\n",
       "      <td>4</td>\n",
       "    </tr>\n",
       "  </tbody>\n",
       "</table>\n",
       "</div>"
      ],
      "text/plain": [
       "   Confirmed  Deaths  Recovered  Active  New cases  New deaths  New recovered   \n",
       "0      36263    1269      25198    9796        106          10             18  \\\n",
       "1       4880     144       2745    1991        117           6             63   \n",
       "2      27973    1163      18837    7973        616           8            749   \n",
       "3        907      52        803      52         10           0              0   \n",
       "4        950      41        242     667         18           1              0   \n",
       "\n",
       "   Deaths / 100 Cases  Recovered / 100 Cases  Confirmed last week   \n",
       "0                3.50                  69.49                35526  \\\n",
       "1                2.95                  56.25                 4171   \n",
       "2                4.16                  67.34                23691   \n",
       "3                5.73                  88.53                  884   \n",
       "4                4.32                  25.47                  749   \n",
       "\n",
       "   1 week change  1 week % increase  WHO Region_cat  Country/Regioncat  \n",
       "0            737               2.07               2                  0  \n",
       "1            709              17.00               3                  1  \n",
       "2           4282              18.07               0                  2  \n",
       "3             23               2.60               3                  3  \n",
       "4            201              26.84               0                  4  "
      ]
     },
     "execution_count": 8,
     "metadata": {},
     "output_type": "execute_result"
    }
   ],
   "source": [
    "#Кодирование категориальных признаков\n",
    "\n",
    "df[\"WHO Region\"] = df[\"WHO Region\"].astype('category')\n",
    "df[\"Country/Region\"] = df[\"Country/Region\"].astype('category')\n",
    "\n",
    "#Назначить закодированную переменную новосу столбцу с помощью метода доступа\n",
    "df[\"WHO Region_cat\"] = df[\"WHO Region\"].cat.codes\n",
    "df[\"Country/Regioncat\"] = df[\"Country/Region\"].cat.codes\n",
    "\n",
    "df = df.drop(['WHO Region', 'Country/Region', 'Deaths / 100 Recovered'], axis=1)\n",
    "df.head()"
   ]
  },
  {
   "cell_type": "code",
   "execution_count": 9,
   "id": "c18f328e",
   "metadata": {},
   "outputs": [],
   "source": [
    "X = df.drop(['Deaths'], axis = 1)\n",
    "y = df['Deaths']\n",
    "X_train, X_test, y_train, y_test = train_test_split(X, y, test_size=0.2, random_state=0)\n",
    "scaler = StandardScaler()\n",
    "X_train_st = scaler.fit_transform(X_train)\n",
    "X_test_st = scaler.transform(X_test)"
   ]
  },
  {
   "cell_type": "markdown",
   "id": "f2a46d7f",
   "metadata": {},
   "source": [
    "### Линейная регрессия"
   ]
  },
  {
   "cell_type": "markdown",
   "id": "d68c93f1",
   "metadata": {},
   "source": [
    "- Линейная регрессия предсказывает непрерывную величину, например, курс валюты, стоимость недвижимости и прочее."
   ]
  },
  {
   "cell_type": "code",
   "execution_count": 10,
   "id": "57ffa5c4",
   "metadata": {},
   "outputs": [
    {
     "data": {
      "text/html": [
       "<style>#sk-container-id-1 {color: black;background-color: white;}#sk-container-id-1 pre{padding: 0;}#sk-container-id-1 div.sk-toggleable {background-color: white;}#sk-container-id-1 label.sk-toggleable__label {cursor: pointer;display: block;width: 100%;margin-bottom: 0;padding: 0.3em;box-sizing: border-box;text-align: center;}#sk-container-id-1 label.sk-toggleable__label-arrow:before {content: \"▸\";float: left;margin-right: 0.25em;color: #696969;}#sk-container-id-1 label.sk-toggleable__label-arrow:hover:before {color: black;}#sk-container-id-1 div.sk-estimator:hover label.sk-toggleable__label-arrow:before {color: black;}#sk-container-id-1 div.sk-toggleable__content {max-height: 0;max-width: 0;overflow: hidden;text-align: left;background-color: #f0f8ff;}#sk-container-id-1 div.sk-toggleable__content pre {margin: 0.2em;color: black;border-radius: 0.25em;background-color: #f0f8ff;}#sk-container-id-1 input.sk-toggleable__control:checked~div.sk-toggleable__content {max-height: 200px;max-width: 100%;overflow: auto;}#sk-container-id-1 input.sk-toggleable__control:checked~label.sk-toggleable__label-arrow:before {content: \"▾\";}#sk-container-id-1 div.sk-estimator input.sk-toggleable__control:checked~label.sk-toggleable__label {background-color: #d4ebff;}#sk-container-id-1 div.sk-label input.sk-toggleable__control:checked~label.sk-toggleable__label {background-color: #d4ebff;}#sk-container-id-1 input.sk-hidden--visually {border: 0;clip: rect(1px 1px 1px 1px);clip: rect(1px, 1px, 1px, 1px);height: 1px;margin: -1px;overflow: hidden;padding: 0;position: absolute;width: 1px;}#sk-container-id-1 div.sk-estimator {font-family: monospace;background-color: #f0f8ff;border: 1px dotted black;border-radius: 0.25em;box-sizing: border-box;margin-bottom: 0.5em;}#sk-container-id-1 div.sk-estimator:hover {background-color: #d4ebff;}#sk-container-id-1 div.sk-parallel-item::after {content: \"\";width: 100%;border-bottom: 1px solid gray;flex-grow: 1;}#sk-container-id-1 div.sk-label:hover label.sk-toggleable__label {background-color: #d4ebff;}#sk-container-id-1 div.sk-serial::before {content: \"\";position: absolute;border-left: 1px solid gray;box-sizing: border-box;top: 0;bottom: 0;left: 50%;z-index: 0;}#sk-container-id-1 div.sk-serial {display: flex;flex-direction: column;align-items: center;background-color: white;padding-right: 0.2em;padding-left: 0.2em;position: relative;}#sk-container-id-1 div.sk-item {position: relative;z-index: 1;}#sk-container-id-1 div.sk-parallel {display: flex;align-items: stretch;justify-content: center;background-color: white;position: relative;}#sk-container-id-1 div.sk-item::before, #sk-container-id-1 div.sk-parallel-item::before {content: \"\";position: absolute;border-left: 1px solid gray;box-sizing: border-box;top: 0;bottom: 0;left: 50%;z-index: -1;}#sk-container-id-1 div.sk-parallel-item {display: flex;flex-direction: column;z-index: 1;position: relative;background-color: white;}#sk-container-id-1 div.sk-parallel-item:first-child::after {align-self: flex-end;width: 50%;}#sk-container-id-1 div.sk-parallel-item:last-child::after {align-self: flex-start;width: 50%;}#sk-container-id-1 div.sk-parallel-item:only-child::after {width: 0;}#sk-container-id-1 div.sk-dashed-wrapped {border: 1px dashed gray;margin: 0 0.4em 0.5em 0.4em;box-sizing: border-box;padding-bottom: 0.4em;background-color: white;}#sk-container-id-1 div.sk-label label {font-family: monospace;font-weight: bold;display: inline-block;line-height: 1.2em;}#sk-container-id-1 div.sk-label-container {text-align: center;}#sk-container-id-1 div.sk-container {/* jupyter's `normalize.less` sets `[hidden] { display: none; }` but bootstrap.min.css set `[hidden] { display: none !important; }` so we also need the `!important` here to be able to override the default hidden behavior on the sphinx rendered scikit-learn.org. See: https://github.com/scikit-learn/scikit-learn/issues/21755 */display: inline-block !important;position: relative;}#sk-container-id-1 div.sk-text-repr-fallback {display: none;}</style><div id=\"sk-container-id-1\" class=\"sk-top-container\"><div class=\"sk-text-repr-fallback\"><pre>LinearRegression()</pre><b>In a Jupyter environment, please rerun this cell to show the HTML representation or trust the notebook. <br />On GitHub, the HTML representation is unable to render, please try loading this page with nbviewer.org.</b></div><div class=\"sk-container\" hidden><div class=\"sk-item\"><div class=\"sk-estimator sk-toggleable\"><input class=\"sk-toggleable__control sk-hidden--visually\" id=\"sk-estimator-id-1\" type=\"checkbox\" checked><label for=\"sk-estimator-id-1\" class=\"sk-toggleable__label sk-toggleable__label-arrow\">LinearRegression</label><div class=\"sk-toggleable__content\"><pre>LinearRegression()</pre></div></div></div></div></div>"
      ],
      "text/plain": [
       "LinearRegression()"
      ]
     },
     "execution_count": 10,
     "metadata": {},
     "output_type": "execute_result"
    }
   ],
   "source": [
    "model = LinearRegression()\n",
    "model.fit(X_train, y_train)"
   ]
  },
  {
   "cell_type": "code",
   "execution_count": 11,
   "id": "952f947e",
   "metadata": {},
   "outputs": [
    {
     "data": {
      "text/html": [
       "<div>\n",
       "<style scoped>\n",
       "    .dataframe tbody tr th:only-of-type {\n",
       "        vertical-align: middle;\n",
       "    }\n",
       "\n",
       "    .dataframe tbody tr th {\n",
       "        vertical-align: top;\n",
       "    }\n",
       "\n",
       "    .dataframe thead th {\n",
       "        text-align: right;\n",
       "    }\n",
       "</style>\n",
       "<table border=\"1\" class=\"dataframe\">\n",
       "  <thead>\n",
       "    <tr style=\"text-align: right;\">\n",
       "      <th></th>\n",
       "      <th>coefficient</th>\n",
       "    </tr>\n",
       "  </thead>\n",
       "  <tbody>\n",
       "    <tr>\n",
       "      <th>Confirmed</th>\n",
       "      <td>6.666667e-01</td>\n",
       "    </tr>\n",
       "    <tr>\n",
       "      <th>Recovered</th>\n",
       "      <td>-1.000000e+00</td>\n",
       "    </tr>\n",
       "    <tr>\n",
       "      <th>Active</th>\n",
       "      <td>-1.000000e+00</td>\n",
       "    </tr>\n",
       "    <tr>\n",
       "      <th>New cases</th>\n",
       "      <td>-7.481862e-15</td>\n",
       "    </tr>\n",
       "    <tr>\n",
       "      <th>New deaths</th>\n",
       "      <td>1.750130e-13</td>\n",
       "    </tr>\n",
       "    <tr>\n",
       "      <th>New recovered</th>\n",
       "      <td>1.383789e-14</td>\n",
       "    </tr>\n",
       "    <tr>\n",
       "      <th>Deaths / 100 Cases</th>\n",
       "      <td>-1.830069e-13</td>\n",
       "    </tr>\n",
       "    <tr>\n",
       "      <th>Recovered / 100 Cases</th>\n",
       "      <td>-3.814062e-13</td>\n",
       "    </tr>\n",
       "    <tr>\n",
       "      <th>Confirmed last week</th>\n",
       "      <td>3.333333e-01</td>\n",
       "    </tr>\n",
       "    <tr>\n",
       "      <th>1 week change</th>\n",
       "      <td>3.333333e-01</td>\n",
       "    </tr>\n",
       "    <tr>\n",
       "      <th>1 week % increase</th>\n",
       "      <td>-2.588054e-13</td>\n",
       "    </tr>\n",
       "    <tr>\n",
       "      <th>WHO Region_cat</th>\n",
       "      <td>4.602868e-12</td>\n",
       "    </tr>\n",
       "    <tr>\n",
       "      <th>Country/Regioncat</th>\n",
       "      <td>-7.820614e-14</td>\n",
       "    </tr>\n",
       "  </tbody>\n",
       "</table>\n",
       "</div>"
      ],
      "text/plain": [
       "                        coefficient\n",
       "Confirmed              6.666667e-01\n",
       "Recovered             -1.000000e+00\n",
       "Active                -1.000000e+00\n",
       "New cases             -7.481862e-15\n",
       "New deaths             1.750130e-13\n",
       "New recovered          1.383789e-14\n",
       "Deaths / 100 Cases    -1.830069e-13\n",
       "Recovered / 100 Cases -3.814062e-13\n",
       "Confirmed last week    3.333333e-01\n",
       "1 week change          3.333333e-01\n",
       "1 week % increase     -2.588054e-13\n",
       "WHO Region_cat         4.602868e-12\n",
       "Country/Regioncat     -7.820614e-14"
      ]
     },
     "execution_count": 11,
     "metadata": {},
     "output_type": "execute_result"
    }
   ],
   "source": [
    "pd.DataFrame(model.coef_, X.columns, columns = ['coefficient'])"
   ]
  },
  {
   "cell_type": "code",
   "execution_count": 12,
   "id": "ef3f673b",
   "metadata": {},
   "outputs": [
    {
     "data": {
      "text/plain": [
       "<matplotlib.collections.PathCollection at 0x123e8c050>"
      ]
     },
     "execution_count": 12,
     "metadata": {},
     "output_type": "execute_result"
    },
    {
     "data": {
      "image/png": "[encoded data removed]",
      "text/plain": [
       "<Figure size 640x480 with 1 Axes>"
      ]
     },
     "metadata": {},
     "output_type": "display_data"
    }
   ],
   "source": [
    "predictions = model.predict(X_test)\n",
    "plt.scatter(y_test, predictions)"
   ]
  },
  {
   "cell_type": "code",
   "execution_count": 13,
   "id": "3258a9dc",
   "metadata": {},
   "outputs": [
    {
     "data": {
      "text/plain": [
       "(array([18., 17.,  2.,  0.,  0.,  0.,  0.,  0.,  0.,  1.]),\n",
       " array([-5.27506927e-11, -9.64064384e-12,  3.34694050e-11,  7.65794539e-11,\n",
       "         1.19689503e-10,  1.62799552e-10,  2.05909600e-10,  2.49019649e-10,\n",
       "         2.92129698e-10,  3.35239747e-10,  3.78349796e-10]),\n",
       " <BarContainer object of 10 artists>)"
      ]
     },
     "execution_count": 13,
     "metadata": {},
     "output_type": "execute_result"
    },
    {
     "data": {
      "image/png": "[encoded data removed]",
      "text/plain": [
       "<Figure size 640x480 with 1 Axes>"
      ]
     },
     "metadata": {},
     "output_type": "display_data"
    }
   ],
   "source": [
    "plt.hist(y_test - predictions)"
   ]
  },
  {
   "cell_type": "markdown",
   "id": "72e4ea25",
   "metadata": {},
   "source": [
    "## SVM"
   ]
  },
  {
   "cell_type": "code",
   "execution_count": 14,
   "id": "0f072a1c",
   "metadata": {},
   "outputs": [
    {
     "data": {
      "text/html": [
       "<div>\n",
       "<style scoped>\n",
       "    .dataframe tbody tr th:only-of-type {\n",
       "        vertical-align: middle;\n",
       "    }\n",
       "\n",
       "    .dataframe tbody tr th {\n",
       "        vertical-align: top;\n",
       "    }\n",
       "\n",
       "    .dataframe thead th {\n",
       "        text-align: right;\n",
       "    }\n",
       "</style>\n",
       "<table border=\"1\" class=\"dataframe\">\n",
       "  <thead>\n",
       "    <tr style=\"text-align: right;\">\n",
       "      <th></th>\n",
       "      <th>Confirmed</th>\n",
       "      <th>Recovered</th>\n",
       "      <th>Active</th>\n",
       "      <th>New cases</th>\n",
       "      <th>New deaths</th>\n",
       "      <th>New recovered</th>\n",
       "      <th>Deaths / 100 Cases</th>\n",
       "      <th>Recovered / 100 Cases</th>\n",
       "      <th>Confirmed last week</th>\n",
       "      <th>1 week change</th>\n",
       "      <th>1 week % increase</th>\n",
       "      <th>WHO Region_cat</th>\n",
       "      <th>Country/Regioncat</th>\n",
       "    </tr>\n",
       "  </thead>\n",
       "  <tbody>\n",
       "    <tr>\n",
       "      <th>count</th>\n",
       "      <td>1.490000e+02</td>\n",
       "      <td>149.000000</td>\n",
       "      <td>1.490000e+02</td>\n",
       "      <td>1.490000e+02</td>\n",
       "      <td>1.490000e+02</td>\n",
       "      <td>1.490000e+02</td>\n",
       "      <td>1.490000e+02</td>\n",
       "      <td>1.490000e+02</td>\n",
       "      <td>1.490000e+02</td>\n",
       "      <td>1.490000e+02</td>\n",
       "      <td>1.490000e+02</td>\n",
       "      <td>1.490000e+02</td>\n",
       "      <td>1.490000e+02</td>\n",
       "    </tr>\n",
       "    <tr>\n",
       "      <th>mean</th>\n",
       "      <td>5.960929e-18</td>\n",
       "      <td>0.000000</td>\n",
       "      <td>8.941393e-18</td>\n",
       "      <td>1.788279e-17</td>\n",
       "      <td>1.788279e-17</td>\n",
       "      <td>1.192186e-17</td>\n",
       "      <td>1.788279e-16</td>\n",
       "      <td>-3.993822e-16</td>\n",
       "      <td>2.980464e-18</td>\n",
       "      <td>7.451161e-18</td>\n",
       "      <td>-8.941393e-17</td>\n",
       "      <td>-1.192186e-17</td>\n",
       "      <td>9.835533e-17</td>\n",
       "    </tr>\n",
       "    <tr>\n",
       "      <th>std</th>\n",
       "      <td>1.003373e+00</td>\n",
       "      <td>1.003373</td>\n",
       "      <td>1.003373e+00</td>\n",
       "      <td>1.003373e+00</td>\n",
       "      <td>1.003373e+00</td>\n",
       "      <td>1.003373e+00</td>\n",
       "      <td>1.003373e+00</td>\n",
       "      <td>1.003373e+00</td>\n",
       "      <td>1.003373e+00</td>\n",
       "      <td>1.003373e+00</td>\n",
       "      <td>1.003373e+00</td>\n",
       "      <td>1.003373e+00</td>\n",
       "      <td>1.003373e+00</td>\n",
       "    </tr>\n",
       "    <tr>\n",
       "      <th>min</th>\n",
       "      <td>-2.870374e-01</td>\n",
       "      <td>-0.264943</td>\n",
       "      <td>-3.120163e-01</td>\n",
       "      <td>-2.188605e-01</td>\n",
       "      <td>-2.374415e-01</td>\n",
       "      <td>-1.975470e-01</td>\n",
       "      <td>-8.126736e-01</td>\n",
       "      <td>-2.548762e+00</td>\n",
       "      <td>-2.986463e-01</td>\n",
       "      <td>-1.986859e-01</td>\n",
       "      <td>-1.103606e+00</td>\n",
       "      <td>-1.328381e+00</td>\n",
       "      <td>-1.691928e+00</td>\n",
       "    </tr>\n",
       "    <tr>\n",
       "      <th>25%</th>\n",
       "      <td>-2.823292e-01</td>\n",
       "      <td>-0.261324</td>\n",
       "      <td>-3.097237e-01</td>\n",
       "      <td>-2.172139e-01</td>\n",
       "      <td>-2.374415e-01</td>\n",
       "      <td>-1.975470e-01</td>\n",
       "      <td>-5.805374e-01</td>\n",
       "      <td>-6.755093e-01</td>\n",
       "      <td>-2.936804e-01</td>\n",
       "      <td>-1.959368e-01</td>\n",
       "      <td>-6.524483e-01</td>\n",
       "      <td>-6.919539e-01</td>\n",
       "      <td>-8.524555e-01</td>\n",
       "    </tr>\n",
       "    <tr>\n",
       "      <th>50%</th>\n",
       "      <td>-2.572049e-01</td>\n",
       "      <td>-0.243876</td>\n",
       "      <td>-2.793655e-01</td>\n",
       "      <td>-1.986307e-01</td>\n",
       "      <td>-2.260547e-01</td>\n",
       "      <td>-1.880626e-01</td>\n",
       "      <td>-2.365285e-01</td>\n",
       "      <td>2.304654e-01</td>\n",
       "      <td>-2.662389e-01</td>\n",
       "      <td>-1.777609e-01</td>\n",
       "      <td>-2.987627e-01</td>\n",
       "      <td>-5.552717e-02</td>\n",
       "      <td>-4.948161e-02</td>\n",
       "    </tr>\n",
       "    <tr>\n",
       "      <th>75%</th>\n",
       "      <td>-1.041213e-01</td>\n",
       "      <td>-0.136899</td>\n",
       "      <td>-1.671650e-01</td>\n",
       "      <td>-1.141830e-01</td>\n",
       "      <td>-1.691207e-01</td>\n",
       "      <td>-1.311566e-01</td>\n",
       "      <td>1.913851e-01</td>\n",
       "      <td>8.427259e-01</td>\n",
       "      <td>-1.093270e-01</td>\n",
       "      <td>-9.990603e-02</td>\n",
       "      <td>3.271493e-01</td>\n",
       "      <td>5.808996e-01</td>\n",
       "      <td>8.812381e-01</td>\n",
       "    </tr>\n",
       "    <tr>\n",
       "      <th>max</th>\n",
       "      <td>9.575167e+00</td>\n",
       "      <td>9.908525</td>\n",
       "      <td>7.506260e+00</td>\n",
       "      <td>1.023877e+01</td>\n",
       "      <td>7.015949e+00</td>\n",
       "      <td>8.448062e+00</td>\n",
       "      <td>7.175047e+00</td>\n",
       "      <td>1.331215e+00</td>\n",
       "      <td>9.636183e+00</td>\n",
       "      <td>8.469760e+00</td>\n",
       "      <td>7.486497e+00</td>\n",
       "      <td>1.853753e+00</td>\n",
       "      <td>1.702461e+00</td>\n",
       "    </tr>\n",
       "  </tbody>\n",
       "</table>\n",
       "</div>"
      ],
      "text/plain": [
       "          Confirmed   Recovered        Active     New cases    New deaths   \n",
       "count  1.490000e+02  149.000000  1.490000e+02  1.490000e+02  1.490000e+02  \\\n",
       "mean   5.960929e-18    0.000000  8.941393e-18  1.788279e-17  1.788279e-17   \n",
       "std    1.003373e+00    1.003373  1.003373e+00  1.003373e+00  1.003373e+00   \n",
       "min   -2.870374e-01   -0.264943 -3.120163e-01 -2.188605e-01 -2.374415e-01   \n",
       "25%   -2.823292e-01   -0.261324 -3.097237e-01 -2.172139e-01 -2.374415e-01   \n",
       "50%   -2.572049e-01   -0.243876 -2.793655e-01 -1.986307e-01 -2.260547e-01   \n",
       "75%   -1.041213e-01   -0.136899 -1.671650e-01 -1.141830e-01 -1.691207e-01   \n",
       "max    9.575167e+00    9.908525  7.506260e+00  1.023877e+01  7.015949e+00   \n",
       "\n",
       "       New recovered  Deaths / 100 Cases  Recovered / 100 Cases   \n",
       "count   1.490000e+02        1.490000e+02           1.490000e+02  \\\n",
       "mean    1.192186e-17        1.788279e-16          -3.993822e-16   \n",
       "std     1.003373e+00        1.003373e+00           1.003373e+00   \n",
       "min    -1.975470e-01       -8.126736e-01          -2.548762e+00   \n",
       "25%    -1.975470e-01       -5.805374e-01          -6.755093e-01   \n",
       "50%    -1.880626e-01       -2.365285e-01           2.304654e-01   \n",
       "75%    -1.311566e-01        1.913851e-01           8.427259e-01   \n",
       "max     8.448062e+00        7.175047e+00           1.331215e+00   \n",
       "\n",
       "       Confirmed last week  1 week change  1 week % increase  WHO Region_cat   \n",
       "count         1.490000e+02   1.490000e+02       1.490000e+02    1.490000e+02  \\\n",
       "mean          2.980464e-18   7.451161e-18      -8.941393e-17   -1.192186e-17   \n",
       "std           1.003373e+00   1.003373e+00       1.003373e+00    1.003373e+00   \n",
       "min          -2.986463e-01  -1.986859e-01      -1.103606e+00   -1.328381e+00   \n",
       "25%          -2.936804e-01  -1.959368e-01      -6.524483e-01   -6.919539e-01   \n",
       "50%          -2.662389e-01  -1.777609e-01      -2.987627e-01   -5.552717e-02   \n",
       "75%          -1.093270e-01  -9.990603e-02       3.271493e-01    5.808996e-01   \n",
       "max           9.636183e+00   8.469760e+00       7.486497e+00    1.853753e+00   \n",
       "\n",
       "       Country/Regioncat  \n",
       "count       1.490000e+02  \n",
       "mean        9.835533e-17  \n",
       "std         1.003373e+00  \n",
       "min        -1.691928e+00  \n",
       "25%        -8.524555e-01  \n",
       "50%        -4.948161e-02  \n",
       "75%         8.812381e-01  \n",
       "max         1.702461e+00  "
      ]
     },
     "execution_count": 14,
     "metadata": {},
     "output_type": "execute_result"
    }
   ],
   "source": [
    "# SVM\n",
    "scaler = StandardScaler().fit(X_train)\n",
    "x_train_scaled = pd.DataFrame(scaler.transform(X_train), columns=X_train.columns)\n",
    "x_test_scaled = pd.DataFrame(scaler.transform(X_test), columns=X_train.columns)\n",
    "x_train_scaled.describe()"
   ]
  },
  {
   "cell_type": "code",
   "execution_count": 15,
   "id": "90e24595",
   "metadata": {},
   "outputs": [
    {
     "data": {
      "text/html": [
       "<style>#sk-container-id-2 {color: black;background-color: white;}#sk-container-id-2 pre{padding: 0;}#sk-container-id-2 div.sk-toggleable {background-color: white;}#sk-container-id-2 label.sk-toggleable__label {cursor: pointer;display: block;width: 100%;margin-bottom: 0;padding: 0.3em;box-sizing: border-box;text-align: center;}#sk-container-id-2 label.sk-toggleable__label-arrow:before {content: \"▸\";float: left;margin-right: 0.25em;color: #696969;}#sk-container-id-2 label.sk-toggleable__label-arrow:hover:before {color: black;}#sk-container-id-2 div.sk-estimator:hover label.sk-toggleable__label-arrow:before {color: black;}#sk-container-id-2 div.sk-toggleable__content {max-height: 0;max-width: 0;overflow: hidden;text-align: left;background-color: #f0f8ff;}#sk-container-id-2 div.sk-toggleable__content pre {margin: 0.2em;color: black;border-radius: 0.25em;background-color: #f0f8ff;}#sk-container-id-2 input.sk-toggleable__control:checked~div.sk-toggleable__content {max-height: 200px;max-width: 100%;overflow: auto;}#sk-container-id-2 input.sk-toggleable__control:checked~label.sk-toggleable__label-arrow:before {content: \"▾\";}#sk-container-id-2 div.sk-estimator input.sk-toggleable__control:checked~label.sk-toggleable__label {background-color: #d4ebff;}#sk-container-id-2 div.sk-label input.sk-toggleable__control:checked~label.sk-toggleable__label {background-color: #d4ebff;}#sk-container-id-2 input.sk-hidden--visually {border: 0;clip: rect(1px 1px 1px 1px);clip: rect(1px, 1px, 1px, 1px);height: 1px;margin: -1px;overflow: hidden;padding: 0;position: absolute;width: 1px;}#sk-container-id-2 div.sk-estimator {font-family: monospace;background-color: #f0f8ff;border: 1px dotted black;border-radius: 0.25em;box-sizing: border-box;margin-bottom: 0.5em;}#sk-container-id-2 div.sk-estimator:hover {background-color: #d4ebff;}#sk-container-id-2 div.sk-parallel-item::after {content: \"\";width: 100%;border-bottom: 1px solid gray;flex-grow: 1;}#sk-container-id-2 div.sk-label:hover label.sk-toggleable__label {background-color: #d4ebff;}#sk-container-id-2 div.sk-serial::before {content: \"\";position: absolute;border-left: 1px solid gray;box-sizing: border-box;top: 0;bottom: 0;left: 50%;z-index: 0;}#sk-container-id-2 div.sk-serial {display: flex;flex-direction: column;align-items: center;background-color: white;padding-right: 0.2em;padding-left: 0.2em;position: relative;}#sk-container-id-2 div.sk-item {position: relative;z-index: 1;}#sk-container-id-2 div.sk-parallel {display: flex;align-items: stretch;justify-content: center;background-color: white;position: relative;}#sk-container-id-2 div.sk-item::before, #sk-container-id-2 div.sk-parallel-item::before {content: \"\";position: absolute;border-left: 1px solid gray;box-sizing: border-box;top: 0;bottom: 0;left: 50%;z-index: -1;}#sk-container-id-2 div.sk-parallel-item {display: flex;flex-direction: column;z-index: 1;position: relative;background-color: white;}#sk-container-id-2 div.sk-parallel-item:first-child::after {align-self: flex-end;width: 50%;}#sk-container-id-2 div.sk-parallel-item:last-child::after {align-self: flex-start;width: 50%;}#sk-container-id-2 div.sk-parallel-item:only-child::after {width: 0;}#sk-container-id-2 div.sk-dashed-wrapped {border: 1px dashed gray;margin: 0 0.4em 0.5em 0.4em;box-sizing: border-box;padding-bottom: 0.4em;background-color: white;}#sk-container-id-2 div.sk-label label {font-family: monospace;font-weight: bold;display: inline-block;line-height: 1.2em;}#sk-container-id-2 div.sk-label-container {text-align: center;}#sk-container-id-2 div.sk-container {/* jupyter's `normalize.less` sets `[hidden] { display: none; }` but bootstrap.min.css set `[hidden] { display: none !important; }` so we also need the `!important` here to be able to override the default hidden behavior on the sphinx rendered scikit-learn.org. See: https://github.com/scikit-learn/scikit-learn/issues/21755 */display: inline-block !important;position: relative;}#sk-container-id-2 div.sk-text-repr-fallback {display: none;}</style><div id=\"sk-container-id-2\" class=\"sk-top-container\"><div class=\"sk-text-repr-fallback\"><pre>NuSVR(nu=0.7)</pre><b>In a Jupyter environment, please rerun this cell to show the HTML representation or trust the notebook. <br />On GitHub, the HTML representation is unable to render, please try loading this page with nbviewer.org.</b></div><div class=\"sk-container\" hidden><div class=\"sk-item\"><div class=\"sk-estimator sk-toggleable\"><input class=\"sk-toggleable__control sk-hidden--visually\" id=\"sk-estimator-id-2\" type=\"checkbox\" checked><label for=\"sk-estimator-id-2\" class=\"sk-toggleable__label sk-toggleable__label-arrow\">NuSVR</label><div class=\"sk-toggleable__content\"><pre>NuSVR(nu=0.7)</pre></div></div></div></div></div>"
      ],
      "text/plain": [
       "NuSVR(nu=0.7)"
      ]
     },
     "execution_count": 15,
     "metadata": {},
     "output_type": "execute_result"
    }
   ],
   "source": [
    "nusvr_05 = NuSVR(nu=0.7, gamma = 'scale')\n",
    "nusvr_05.fit(X_train, y_train)"
   ]
  },
  {
   "cell_type": "markdown",
   "id": "049c8077",
   "metadata": {},
   "source": [
    "## Дерево решений"
   ]
  },
  {
   "cell_type": "code",
   "execution_count": 16,
   "id": "98bc8035",
   "metadata": {},
   "outputs": [
    {
     "data": {
      "text/html": [
       "<style>#sk-container-id-3 {color: black;background-color: white;}#sk-container-id-3 pre{padding: 0;}#sk-container-id-3 div.sk-toggleable {background-color: white;}#sk-container-id-3 label.sk-toggleable__label {cursor: pointer;display: block;width: 100%;margin-bottom: 0;padding: 0.3em;box-sizing: border-box;text-align: center;}#sk-container-id-3 label.sk-toggleable__label-arrow:before {content: \"▸\";float: left;margin-right: 0.25em;color: #696969;}#sk-container-id-3 label.sk-toggleable__label-arrow:hover:before {color: black;}#sk-container-id-3 div.sk-estimator:hover label.sk-toggleable__label-arrow:before {color: black;}#sk-container-id-3 div.sk-toggleable__content {max-height: 0;max-width: 0;overflow: hidden;text-align: left;background-color: #f0f8ff;}#sk-container-id-3 div.sk-toggleable__content pre {margin: 0.2em;color: black;border-radius: 0.25em;background-color: #f0f8ff;}#sk-container-id-3 input.sk-toggleable__control:checked~div.sk-toggleable__content {max-height: 200px;max-width: 100%;overflow: auto;}#sk-container-id-3 input.sk-toggleable__control:checked~label.sk-toggleable__label-arrow:before {content: \"▾\";}#sk-container-id-3 div.sk-estimator input.sk-toggleable__control:checked~label.sk-toggleable__label {background-color: #d4ebff;}#sk-container-id-3 div.sk-label input.sk-toggleable__control:checked~label.sk-toggleable__label {background-color: #d4ebff;}#sk-container-id-3 input.sk-hidden--visually {border: 0;clip: rect(1px 1px 1px 1px);clip: rect(1px, 1px, 1px, 1px);height: 1px;margin: -1px;overflow: hidden;padding: 0;position: absolute;width: 1px;}#sk-container-id-3 div.sk-estimator {font-family: monospace;background-color: #f0f8ff;border: 1px dotted black;border-radius: 0.25em;box-sizing: border-box;margin-bottom: 0.5em;}#sk-container-id-3 div.sk-estimator:hover {background-color: #d4ebff;}#sk-container-id-3 div.sk-parallel-item::after {content: \"\";width: 100%;border-bottom: 1px solid gray;flex-grow: 1;}#sk-container-id-3 div.sk-label:hover label.sk-toggleable__label {background-color: #d4ebff;}#sk-container-id-3 div.sk-serial::before {content: \"\";position: absolute;border-left: 1px solid gray;box-sizing: border-box;top: 0;bottom: 0;left: 50%;z-index: 0;}#sk-container-id-3 div.sk-serial {display: flex;flex-direction: column;align-items: center;background-color: white;padding-right: 0.2em;padding-left: 0.2em;position: relative;}#sk-container-id-3 div.sk-item {position: relative;z-index: 1;}#sk-container-id-3 div.sk-parallel {display: flex;align-items: stretch;justify-content: center;background-color: white;position: relative;}#sk-container-id-3 div.sk-item::before, #sk-container-id-3 div.sk-parallel-item::before {content: \"\";position: absolute;border-left: 1px solid gray;box-sizing: border-box;top: 0;bottom: 0;left: 50%;z-index: -1;}#sk-container-id-3 div.sk-parallel-item {display: flex;flex-direction: column;z-index: 1;position: relative;background-color: white;}#sk-container-id-3 div.sk-parallel-item:first-child::after {align-self: flex-end;width: 50%;}#sk-container-id-3 div.sk-parallel-item:last-child::after {align-self: flex-start;width: 50%;}#sk-container-id-3 div.sk-parallel-item:only-child::after {width: 0;}#sk-container-id-3 div.sk-dashed-wrapped {border: 1px dashed gray;margin: 0 0.4em 0.5em 0.4em;box-sizing: border-box;padding-bottom: 0.4em;background-color: white;}#sk-container-id-3 div.sk-label label {font-family: monospace;font-weight: bold;display: inline-block;line-height: 1.2em;}#sk-container-id-3 div.sk-label-container {text-align: center;}#sk-container-id-3 div.sk-container {/* jupyter's `normalize.less` sets `[hidden] { display: none; }` but bootstrap.min.css set `[hidden] { display: none !important; }` so we also need the `!important` here to be able to override the default hidden behavior on the sphinx rendered scikit-learn.org. See: https://github.com/scikit-learn/scikit-learn/issues/21755 */display: inline-block !important;position: relative;}#sk-container-id-3 div.sk-text-repr-fallback {display: none;}</style><div id=\"sk-container-id-3\" class=\"sk-top-container\"><div class=\"sk-text-repr-fallback\"><pre>DecisionTreeRegressor(max_depth=3)</pre><b>In a Jupyter environment, please rerun this cell to show the HTML representation or trust the notebook. <br />On GitHub, the HTML representation is unable to render, please try loading this page with nbviewer.org.</b></div><div class=\"sk-container\" hidden><div class=\"sk-item\"><div class=\"sk-estimator sk-toggleable\"><input class=\"sk-toggleable__control sk-hidden--visually\" id=\"sk-estimator-id-3\" type=\"checkbox\" checked><label for=\"sk-estimator-id-3\" class=\"sk-toggleable__label sk-toggleable__label-arrow\">DecisionTreeRegressor</label><div class=\"sk-toggleable__content\"><pre>DecisionTreeRegressor(max_depth=3)</pre></div></div></div></div></div>"
      ],
      "text/plain": [
       "DecisionTreeRegressor(max_depth=3)"
      ]
     },
     "execution_count": 16,
     "metadata": {},
     "output_type": "execute_result"
    }
   ],
   "source": [
    "dt_none = DecisionTreeRegressor(max_depth=3)\n",
    "dt_none.fit(X_train, y_train)"
   ]
  },
  {
   "cell_type": "code",
   "execution_count": 17,
   "id": "3671b2e3",
   "metadata": {},
   "outputs": [
    {
     "data": {
      "text/plain": [
       "[Text(0.5416666666666666, 0.875, 'x[2] <= 227762.0\\nsquared_error = 88999619.837\\nsamples = 149\\nvalue = 2725.04'),\n",
       " Text(0.3333333333333333, 0.625, 'x[8] <= 232598.0\\nsquared_error = 21102372.903\\nsamples = 146\\nvalue = 1638.089'),\n",
       " Text(0.16666666666666666, 0.375, 'x[8] <= 60879.0\\nsquared_error = 3240448.757\\nsamples = 138\\nvalue = 798.29'),\n",
       " Text(0.08333333333333333, 0.125, 'squared_error = 452722.76\\nsamples = 120\\nvalue = 287.583'),\n",
       " Text(0.25, 0.125, 'squared_error = 8494429.889\\nsamples = 18\\nvalue = 4203.0'),\n",
       " Text(0.5, 0.375, 'x[9] <= 7889.0\\nsquared_error = 107195059.234\\nsamples = 8\\nvalue = 16124.625'),\n",
       " Text(0.4166666666666667, 0.125, 'squared_error = 11155600.0\\nsamples = 2\\nvalue = 31772.0'),\n",
       " Text(0.5833333333333334, 0.125, 'squared_error = 30390281.472\\nsamples = 6\\nvalue = 10908.833'),\n",
       " Text(0.75, 0.625, 'x[11] <= 2.0\\nsquared_error = 537605030.222\\nsamples = 3\\nvalue = 55623.333'),\n",
       " Text(0.6666666666666666, 0.375, 'squared_error = 0.0\\nsamples = 1\\nvalue = 87618.0'),\n",
       " Text(0.8333333333333334, 0.375, 'x[7] <= 32.37\\nsquared_error = 38663524.0\\nsamples = 2\\nvalue = 39626.0'),\n",
       " Text(0.75, 0.125, 'squared_error = 0.0\\nsamples = 1\\nvalue = 45844.0'),\n",
       " Text(0.9166666666666666, 0.125, 'squared_error = 0.0\\nsamples = 1\\nvalue = 33408.0')]"
      ]
     },
     "execution_count": 17,
     "metadata": {},
     "output_type": "execute_result"
    },
    {
     "data": {
      "image/png": "[encoded data removed]",
      "text/plain": [
       "<Figure size 640x480 with 1 Axes>"
      ]
     },
     "metadata": {},
     "output_type": "display_data"
    }
   ],
   "source": [
    "tree.plot_tree(dt_none)"
   ]
  },
  {
   "cell_type": "code",
   "execution_count": 18,
   "id": "63afc9dc",
   "metadata": {},
   "outputs": [
    {
     "data": {
      "text/html": [
       "<style>#sk-container-id-4 {color: black;background-color: white;}#sk-container-id-4 pre{padding: 0;}#sk-container-id-4 div.sk-toggleable {background-color: white;}#sk-container-id-4 label.sk-toggleable__label {cursor: pointer;display: block;width: 100%;margin-bottom: 0;padding: 0.3em;box-sizing: border-box;text-align: center;}#sk-container-id-4 label.sk-toggleable__label-arrow:before {content: \"▸\";float: left;margin-right: 0.25em;color: #696969;}#sk-container-id-4 label.sk-toggleable__label-arrow:hover:before {color: black;}#sk-container-id-4 div.sk-estimator:hover label.sk-toggleable__label-arrow:before {color: black;}#sk-container-id-4 div.sk-toggleable__content {max-height: 0;max-width: 0;overflow: hidden;text-align: left;background-color: #f0f8ff;}#sk-container-id-4 div.sk-toggleable__content pre {margin: 0.2em;color: black;border-radius: 0.25em;background-color: #f0f8ff;}#sk-container-id-4 input.sk-toggleable__control:checked~div.sk-toggleable__content {max-height: 200px;max-width: 100%;overflow: auto;}#sk-container-id-4 input.sk-toggleable__control:checked~label.sk-toggleable__label-arrow:before {content: \"▾\";}#sk-container-id-4 div.sk-estimator input.sk-toggleable__control:checked~label.sk-toggleable__label {background-color: #d4ebff;}#sk-container-id-4 div.sk-label input.sk-toggleable__control:checked~label.sk-toggleable__label {background-color: #d4ebff;}#sk-container-id-4 input.sk-hidden--visually {border: 0;clip: rect(1px 1px 1px 1px);clip: rect(1px, 1px, 1px, 1px);height: 1px;margin: -1px;overflow: hidden;padding: 0;position: absolute;width: 1px;}#sk-container-id-4 div.sk-estimator {font-family: monospace;background-color: #f0f8ff;border: 1px dotted black;border-radius: 0.25em;box-sizing: border-box;margin-bottom: 0.5em;}#sk-container-id-4 div.sk-estimator:hover {background-color: #d4ebff;}#sk-container-id-4 div.sk-parallel-item::after {content: \"\";width: 100%;border-bottom: 1px solid gray;flex-grow: 1;}#sk-container-id-4 div.sk-label:hover label.sk-toggleable__label {background-color: #d4ebff;}#sk-container-id-4 div.sk-serial::before {content: \"\";position: absolute;border-left: 1px solid gray;box-sizing: border-box;top: 0;bottom: 0;left: 50%;z-index: 0;}#sk-container-id-4 div.sk-serial {display: flex;flex-direction: column;align-items: center;background-color: white;padding-right: 0.2em;padding-left: 0.2em;position: relative;}#sk-container-id-4 div.sk-item {position: relative;z-index: 1;}#sk-container-id-4 div.sk-parallel {display: flex;align-items: stretch;justify-content: center;background-color: white;position: relative;}#sk-container-id-4 div.sk-item::before, #sk-container-id-4 div.sk-parallel-item::before {content: \"\";position: absolute;border-left: 1px solid gray;box-sizing: border-box;top: 0;bottom: 0;left: 50%;z-index: -1;}#sk-container-id-4 div.sk-parallel-item {display: flex;flex-direction: column;z-index: 1;position: relative;background-color: white;}#sk-container-id-4 div.sk-parallel-item:first-child::after {align-self: flex-end;width: 50%;}#sk-container-id-4 div.sk-parallel-item:last-child::after {align-self: flex-start;width: 50%;}#sk-container-id-4 div.sk-parallel-item:only-child::after {width: 0;}#sk-container-id-4 div.sk-dashed-wrapped {border: 1px dashed gray;margin: 0 0.4em 0.5em 0.4em;box-sizing: border-box;padding-bottom: 0.4em;background-color: white;}#sk-container-id-4 div.sk-label label {font-family: monospace;font-weight: bold;display: inline-block;line-height: 1.2em;}#sk-container-id-4 div.sk-label-container {text-align: center;}#sk-container-id-4 div.sk-container {/* jupyter's `normalize.less` sets `[hidden] { display: none; }` but bootstrap.min.css set `[hidden] { display: none !important; }` so we also need the `!important` here to be able to override the default hidden behavior on the sphinx rendered scikit-learn.org. See: https://github.com/scikit-learn/scikit-learn/issues/21755 */display: inline-block !important;position: relative;}#sk-container-id-4 div.sk-text-repr-fallback {display: none;}</style><div id=\"sk-container-id-4\" class=\"sk-top-container\"><div class=\"sk-text-repr-fallback\"><pre>DecisionTreeClassifier(random_state=1)</pre><b>In a Jupyter environment, please rerun this cell to show the HTML representation or trust the notebook. <br />On GitHub, the HTML representation is unable to render, please try loading this page with nbviewer.org.</b></div><div class=\"sk-container\" hidden><div class=\"sk-item\"><div class=\"sk-estimator sk-toggleable\"><input class=\"sk-toggleable__control sk-hidden--visually\" id=\"sk-estimator-id-4\" type=\"checkbox\" checked><label for=\"sk-estimator-id-4\" class=\"sk-toggleable__label sk-toggleable__label-arrow\">DecisionTreeClassifier</label><div class=\"sk-toggleable__content\"><pre>DecisionTreeClassifier(random_state=1)</pre></div></div></div></div></div>"
      ],
      "text/plain": [
       "DecisionTreeClassifier(random_state=1)"
      ]
     },
     "execution_count": 18,
     "metadata": {},
     "output_type": "execute_result"
    }
   ],
   "source": [
    "clf = DecisionTreeClassifier(random_state=1)\n",
    "clf.fit(X_train, y_train)"
   ]
  },
  {
   "cell_type": "code",
   "execution_count": 19,
   "id": "1e3e78ab",
   "metadata": {},
   "outputs": [],
   "source": [
    "def test_model(model):\n",
    "    print(\"mean_absolute_error:\",\n",
    "          mean_absolute_error(y_test, model.predict(X_test)))\n",
    "    print(\"median_absolute_error:\",\n",
    "          median_absolute_error(y_test, model.predict(X_test)))\n",
    "    print(\"r2_score:\",\n",
    "          r2_score(y_test, model.predict(X_test)))"
   ]
  },
  {
   "cell_type": "code",
   "execution_count": 20,
   "id": "b30d94ce",
   "metadata": {},
   "outputs": [
    {
     "name": "stdout",
     "output_type": "stream",
     "text": [
      "mean_absolute_error: 3709.291666666666\n",
      "median_absolute_error: 278.0833333333333\n",
      "r2_score: 0.7651729858312535\n"
     ]
    }
   ],
   "source": [
    "test_model(dt_none)"
   ]
  },
  {
   "cell_type": "code",
   "execution_count": 29,
   "id": "87f47f17",
   "metadata": {},
   "outputs": [],
   "source": [
    "def full_model(model):\n",
    "    print(\"mean_absolute_error:\",\n",
    "          mean_absolute_error(y, model.predict(X)))\n",
    "    print(\"median_absolute_error:\",\n",
    "          median_absolute_error(y, model.predict(X)))\n",
    "    print(\"r2_score:\",\n",
    "          r2_score(y, model.predict(X)))"
   ]
  },
  {
   "cell_type": "code",
   "execution_count": 30,
   "id": "7ce21953",
   "metadata": {},
   "outputs": [
    {
     "name": "stdout",
     "output_type": "stream",
     "text": [
      "mean_absolute_error: 1556.1550802139038\n",
      "median_absolute_error: 0.0\n",
      "r2_score: 0.3232840585070238\n"
     ]
    }
   ],
   "source": [
    "full_model(nusvr_05)"
   ]
  },
  {
   "cell_type": "code",
   "execution_count": 23,
   "id": "0c15e866",
   "metadata": {
    "scrolled": true
   },
   "outputs": [
    {
     "data": {
      "text/html": [
       "<pre>|--- Active <= 227762.00\n",
       "|   |--- Confirmed last week <= 232598.00\n",
       "|   |   |--- Confirmed last week <= 60879.00\n",
       "|   |   |   |--- value: [287.58]\n",
       "|   |   |--- Confirmed last week >  60879.00\n",
       "|   |   |   |--- value: [4203.00]\n",
       "|   |--- Confirmed last week >  232598.00\n",
       "|   |   |--- 1 week change <= 7889.00\n",
       "|   |   |   |--- value: [31772.00]\n",
       "|   |   |--- 1 week change >  7889.00\n",
       "|   |   |   |--- value: [10908.83]\n",
       "|--- Active >  227762.00\n",
       "|   |--- WHO Region_cat <= 2.00\n",
       "|   |   |--- value: [87618.00]\n",
       "|   |--- WHO Region_cat >  2.00\n",
       "|   |   |--- Recovered / 100 Cases <= 32.37\n",
       "|   |   |   |--- value: [45844.00]\n",
       "|   |   |--- Recovered / 100 Cases >  32.37\n",
       "|   |   |   |--- value: [33408.00]\n",
       "</pre>"
      ],
      "text/plain": [
       "<IPython.core.display.HTML object>"
      ]
     },
     "execution_count": 23,
     "metadata": {},
     "output_type": "execute_result"
    }
   ],
   "source": [
    "from IPython.core.display import HTML\n",
    "from sklearn.tree import export_text\n",
    "tree_rules = export_text(dt_none, feature_names=list(X.columns))\n",
    "HTML('<pre>' + tree_rules + '</pre>')"
   ]
  },
  {
   "cell_type": "code",
   "execution_count": 24,
   "id": "e46004d0",
   "metadata": {},
   "outputs": [],
   "source": [
    "# Визуализация дерева\n",
    "def get_png_tree(tree_model_param, feature_names_param):\n",
    "    dot_data = StringIO()\n",
    "    export_graphviz(tree_model_param, out_file=dot_data, feature_names=feature_names_param,\n",
    "                    filled=True, rounded=True, special_characters=True)\n",
    "    graph = pydotplus.graph_from_dot_data(dot_data.getvalue())\n",
    "    return graph.create_png()"
   ]
  },
  {
   "cell_type": "code",
   "execution_count": 25,
   "id": "cc6ca03b",
   "metadata": {},
   "outputs": [
    {
     "data": {
      "image/svg+xml": [
       "<?xml version=\"1.0\" encoding=\"UTF-8\" standalone=\"no\"?>\n",
       "<!DOCTYPE svg PUBLIC \"-//W3C//DTD SVG 1.1//EN\"\n",
       " \"http://www.w3.org/Graphics/SVG/1.1/DTD/svg11.dtd\">\n",
       "<!-- Generated by graphviz version 8.0.4 (20230421.1958)\n",
       " -->\n",
       "<!-- Title: Tree Pages: 1 -->\n",
       "<svg width=\"1142pt\" height=\"892pt\"\n",
       " viewBox=\"0.00 0.00 1142.25 892.00\" xmlns=\"http://www.w3.org/2000/svg\" xmlns:xlink=\"http://www.w3.org/1999/xlink\">\n",
       "<g id=\"graph0\" class=\"graph\" transform=\"scale(1 1) rotate(0) translate(4 888)\">\n",
       "<title>Tree</title>\n",
       "<polygon fill=\"white\" stroke=\"none\" points=\"-4,4 -4,-888 1138.25,-888 1138.25,4 -4,4\"/>\n",
       "<!-- 0 -->\n",
       "<g id=\"node1\" class=\"node\">\n",
       "<title>0</title>\n",
       "<path fill=\"#fdf7f3\" stroke=\"black\" d=\"M548,-884C548,-884 294.25,-884 294.25,-884 288.25,-884 282.25,-878 282.25,-872 282.25,-872 282.25,-720 282.25,-720 282.25,-714 288.25,-708 294.25,-708 294.25,-708 548,-708 548,-708 554,-708 560,-714 560,-720 560,-720 560,-872 560,-872 560,-878 554,-884 548,-884\"/>\n",
       "<text text-anchor=\"start\" x=\"390\" y=\"-867.7\" font-family=\"Helvetica,sans-Serif\" font-size=\"14.00\">x</text>\n",
       "<text text-anchor=\"start\" x=\"396.75\" y=\"-867.7\" font-family=\"Helvetica,sans-Serif\" baseline-shift=\"sub\" font-size=\"14.00\">6</text>\n",
       "<text text-anchor=\"start\" x=\"403.5\" y=\"-867.7\" font-family=\"Helvetica,sans-Serif\" font-size=\"14.00\"> ≤ 0.025</text>\n",
       "<text text-anchor=\"start\" x=\"385.88\" y=\"-853.7\" font-family=\"Helvetica,sans-Serif\" font-size=\"14.00\">gini = 0.985</text>\n",
       "<text text-anchor=\"start\" x=\"376.5\" y=\"-839.7\" font-family=\"Helvetica,sans-Serif\" font-size=\"14.00\">samples = 149</text>\n",
       "<text text-anchor=\"start\" x=\"290.25\" y=\"-825.7\" font-family=\"Helvetica,sans-Serif\" font-size=\"14.00\">value = [13, 3, 3, 1, 1, 1, 1, 3, 1, 2, 4, 1, 1, 1</text>\n",
       "<text text-anchor=\"start\" x=\"319.88\" y=\"-811.7\" font-family=\"Helvetica,sans-Serif\" font-size=\"14.00\">1, 1, 1, 1, 2, 1, 1, 1, 1, 1, 1, 1, 1, 1</text>\n",
       "<text text-anchor=\"start\" x=\"319.88\" y=\"-797.7\" font-family=\"Helvetica,sans-Serif\" font-size=\"14.00\">1, 1, 1, 1, 2, 1, 1, 2, 1, 1, 1, 1, 1, 1</text>\n",
       "<text text-anchor=\"start\" x=\"319.88\" y=\"-783.7\" font-family=\"Helvetica,sans-Serif\" font-size=\"14.00\">1, 1, 1, 1, 1, 1, 1, 1, 1, 1, 1, 1, 1, 1</text>\n",
       "<text text-anchor=\"start\" x=\"319.88\" y=\"-769.7\" font-family=\"Helvetica,sans-Serif\" font-size=\"14.00\">1, 1, 1, 1, 1, 1, 1, 1, 1, 1, 1, 1, 1, 1</text>\n",
       "<text text-anchor=\"start\" x=\"319.88\" y=\"-755.7\" font-family=\"Helvetica,sans-Serif\" font-size=\"14.00\">1, 1, 1, 1, 1, 1, 1, 1, 1, 1, 1, 1, 1, 1</text>\n",
       "<text text-anchor=\"start\" x=\"319.88\" y=\"-741.7\" font-family=\"Helvetica,sans-Serif\" font-size=\"14.00\">1, 1, 1, 1, 1, 1, 1, 1, 1, 1, 1, 1, 1, 1</text>\n",
       "<text text-anchor=\"start\" x=\"319.88\" y=\"-727.7\" font-family=\"Helvetica,sans-Serif\" font-size=\"14.00\">1, 1, 1, 1, 1, 1, 1, 1, 1, 1, 1, 1, 1, 1</text>\n",
       "<text text-anchor=\"start\" x=\"333\" y=\"-713.7\" font-family=\"Helvetica,sans-Serif\" font-size=\"14.00\">1, 1, 1, 1, 1, 1, 1, 1, 1, 1, 1, 1]</text>\n",
       "</g>\n",
       "<!-- 1 -->\n",
       "<g id=\"node2\" class=\"node\">\n",
       "<title>1</title>\n",
       "<path fill=\"#e58139\" stroke=\"black\" d=\"M402,-670.5C402,-670.5 148.25,-670.5 148.25,-670.5 142.25,-670.5 136.25,-664.5 136.25,-658.5 136.25,-658.5 136.25,-509.5 136.25,-509.5 136.25,-503.5 142.25,-497.5 148.25,-497.5 148.25,-497.5 402,-497.5 402,-497.5 408,-497.5 414,-503.5 414,-509.5 414,-509.5 414,-658.5 414,-658.5 414,-664.5 408,-670.5 402,-670.5\"/>\n",
       "<text text-anchor=\"start\" x=\"247.38\" y=\"-653.2\" font-family=\"Helvetica,sans-Serif\" font-size=\"14.00\">gini = 0.0</text>\n",
       "<text text-anchor=\"start\" x=\"234.25\" y=\"-638.2\" font-family=\"Helvetica,sans-Serif\" font-size=\"14.00\">samples = 13</text>\n",
       "<text text-anchor=\"start\" x=\"144.25\" y=\"-623.2\" font-family=\"Helvetica,sans-Serif\" font-size=\"14.00\">value = [13, 0, 0, 0, 0, 0, 0, 0, 0, 0, 0, 0, 0, 0</text>\n",
       "<text text-anchor=\"start\" x=\"173.88\" y=\"-608.2\" font-family=\"Helvetica,sans-Serif\" font-size=\"14.00\">0, 0, 0, 0, 0, 0, 0, 0, 0, 0, 0, 0, 0, 0</text>\n",
       "<text text-anchor=\"start\" x=\"173.88\" y=\"-593.2\" font-family=\"Helvetica,sans-Serif\" font-size=\"14.00\">0, 0, 0, 0, 0, 0, 0, 0, 0, 0, 0, 0, 0, 0</text>\n",
       "<text text-anchor=\"start\" x=\"173.88\" y=\"-578.2\" font-family=\"Helvetica,sans-Serif\" font-size=\"14.00\">0, 0, 0, 0, 0, 0, 0, 0, 0, 0, 0, 0, 0, 0</text>\n",
       "<text text-anchor=\"start\" x=\"173.88\" y=\"-563.2\" font-family=\"Helvetica,sans-Serif\" font-size=\"14.00\">0, 0, 0, 0, 0, 0, 0, 0, 0, 0, 0, 0, 0, 0</text>\n",
       "<text text-anchor=\"start\" x=\"173.88\" y=\"-548.2\" font-family=\"Helvetica,sans-Serif\" font-size=\"14.00\">0, 0, 0, 0, 0, 0, 0, 0, 0, 0, 0, 0, 0, 0</text>\n",
       "<text text-anchor=\"start\" x=\"173.88\" y=\"-533.2\" font-family=\"Helvetica,sans-Serif\" font-size=\"14.00\">0, 0, 0, 0, 0, 0, 0, 0, 0, 0, 0, 0, 0, 0</text>\n",
       "<text text-anchor=\"start\" x=\"173.88\" y=\"-518.2\" font-family=\"Helvetica,sans-Serif\" font-size=\"14.00\">0, 0, 0, 0, 0, 0, 0, 0, 0, 0, 0, 0, 0, 0</text>\n",
       "<text text-anchor=\"start\" x=\"187\" y=\"-503.2\" font-family=\"Helvetica,sans-Serif\" font-size=\"14.00\">0, 0, 0, 0, 0, 0, 0, 0, 0, 0, 0, 0]</text>\n",
       "</g>\n",
       "<!-- 0&#45;&gt;1 -->\n",
       "<g id=\"edge1\" class=\"edge\">\n",
       "<title>0&#45;&gt;1</title>\n",
       "<path fill=\"none\" stroke=\"black\" d=\"M360.48,-707.77C354.06,-698.54 347.52,-689.13 341.05,-679.83\"/>\n",
       "<polygon fill=\"black\" stroke=\"black\" points=\"343.46,-678.16 334.88,-671.95 337.72,-682.16 343.46,-678.16\"/>\n",
       "<text text-anchor=\"middle\" x=\"330.46\" y=\"-689.76\" font-family=\"Helvetica,sans-Serif\" font-size=\"14.00\">True</text>\n",
       "</g>\n",
       "<!-- 2 -->\n",
       "<g id=\"node3\" class=\"node\">\n",
       "<title>2</title>\n",
       "<path fill=\"#fffffe\" stroke=\"black\" d=\"M690.25,-672C690.25,-672 444,-672 444,-672 438,-672 432,-666 432,-660 432,-660 432,-508 432,-508 432,-502 438,-496 444,-496 444,-496 690.25,-496 690.25,-496 696.25,-496 702.25,-502 702.25,-508 702.25,-508 702.25,-660 702.25,-660 702.25,-666 696.25,-672 690.25,-672\"/>\n",
       "<text text-anchor=\"start\" x=\"539.75\" y=\"-655.7\" font-family=\"Helvetica,sans-Serif\" font-size=\"14.00\">x</text>\n",
       "<text text-anchor=\"start\" x=\"546.5\" y=\"-655.7\" font-family=\"Helvetica,sans-Serif\" baseline-shift=\"sub\" font-size=\"14.00\">2</text>\n",
       "<text text-anchor=\"start\" x=\"553.25\" y=\"-655.7\" font-family=\"Helvetica,sans-Serif\" font-size=\"14.00\"> ≤ 19.5</text>\n",
       "<text text-anchor=\"start\" x=\"531.88\" y=\"-641.7\" font-family=\"Helvetica,sans-Serif\" font-size=\"14.00\">gini = 0.991</text>\n",
       "<text text-anchor=\"start\" x=\"522.5\" y=\"-627.7\" font-family=\"Helvetica,sans-Serif\" font-size=\"14.00\">samples = 136</text>\n",
       "<text text-anchor=\"start\" x=\"440\" y=\"-613.7\" font-family=\"Helvetica,sans-Serif\" font-size=\"14.00\">value = [0, 3, 3, 1, 1, 1, 1, 3, 1, 2, 4, 1, 1, 1</text>\n",
       "<text text-anchor=\"start\" x=\"465.88\" y=\"-599.7\" font-family=\"Helvetica,sans-Serif\" font-size=\"14.00\">1, 1, 1, 1, 2, 1, 1, 1, 1, 1, 1, 1, 1, 1</text>\n",
       "<text text-anchor=\"start\" x=\"465.88\" y=\"-585.7\" font-family=\"Helvetica,sans-Serif\" font-size=\"14.00\">1, 1, 1, 1, 2, 1, 1, 2, 1, 1, 1, 1, 1, 1</text>\n",
       "<text text-anchor=\"start\" x=\"465.88\" y=\"-571.7\" font-family=\"Helvetica,sans-Serif\" font-size=\"14.00\">1, 1, 1, 1, 1, 1, 1, 1, 1, 1, 1, 1, 1, 1</text>\n",
       "<text text-anchor=\"start\" x=\"465.88\" y=\"-557.7\" font-family=\"Helvetica,sans-Serif\" font-size=\"14.00\">1, 1, 1, 1, 1, 1, 1, 1, 1, 1, 1, 1, 1, 1</text>\n",
       "<text text-anchor=\"start\" x=\"465.88\" y=\"-543.7\" font-family=\"Helvetica,sans-Serif\" font-size=\"14.00\">1, 1, 1, 1, 1, 1, 1, 1, 1, 1, 1, 1, 1, 1</text>\n",
       "<text text-anchor=\"start\" x=\"465.88\" y=\"-529.7\" font-family=\"Helvetica,sans-Serif\" font-size=\"14.00\">1, 1, 1, 1, 1, 1, 1, 1, 1, 1, 1, 1, 1, 1</text>\n",
       "<text text-anchor=\"start\" x=\"465.88\" y=\"-515.7\" font-family=\"Helvetica,sans-Serif\" font-size=\"14.00\">1, 1, 1, 1, 1, 1, 1, 1, 1, 1, 1, 1, 1, 1</text>\n",
       "<text text-anchor=\"start\" x=\"479\" y=\"-501.7\" font-family=\"Helvetica,sans-Serif\" font-size=\"14.00\">1, 1, 1, 1, 1, 1, 1, 1, 1, 1, 1, 1]</text>\n",
       "</g>\n",
       "<!-- 0&#45;&gt;2 -->\n",
       "<g id=\"edge2\" class=\"edge\">\n",
       "<title>0&#45;&gt;2</title>\n",
       "<path fill=\"none\" stroke=\"black\" d=\"M481.77,-707.77C487.88,-698.98 494.11,-690.01 500.29,-681.14\"/>\n",
       "<polygon fill=\"black\" stroke=\"black\" points=\"503.6,-683.51 506.43,-673.3 497.85,-679.51 503.6,-683.51\"/>\n",
       "<text text-anchor=\"middle\" x=\"510.85\" y=\"-691.11\" font-family=\"Helvetica,sans-Serif\" font-size=\"14.00\">False</text>\n",
       "</g>\n",
       "<!-- 3 -->\n",
       "<g id=\"node4\" class=\"node\">\n",
       "<title>3</title>\n",
       "<path fill=\"#fbf5e3\" stroke=\"black\" d=\"M546.25,-460C546.25,-460 300,-460 300,-460 294,-460 288,-454 288,-448 288,-448 288,-296 288,-296 288,-290 294,-284 300,-284 300,-284 546.25,-284 546.25,-284 552.25,-284 558.25,-290 558.25,-296 558.25,-296 558.25,-448 558.25,-448 558.25,-454 552.25,-460 546.25,-460\"/>\n",
       "<text text-anchor=\"start\" x=\"399.5\" y=\"-443.7\" font-family=\"Helvetica,sans-Serif\" font-size=\"14.00\">x</text>\n",
       "<text text-anchor=\"start\" x=\"406.25\" y=\"-443.7\" font-family=\"Helvetica,sans-Serif\" baseline-shift=\"sub\" font-size=\"14.00\">2</text>\n",
       "<text text-anchor=\"start\" x=\"413\" y=\"-443.7\" font-family=\"Helvetica,sans-Serif\" font-size=\"14.00\"> ≤ 8.5</text>\n",
       "<text text-anchor=\"start\" x=\"391.62\" y=\"-429.7\" font-family=\"Helvetica,sans-Serif\" font-size=\"14.00\">gini = 0.79</text>\n",
       "<text text-anchor=\"start\" x=\"386\" y=\"-415.7\" font-family=\"Helvetica,sans-Serif\" font-size=\"14.00\">samples = 9</text>\n",
       "<text text-anchor=\"start\" x=\"296\" y=\"-401.7\" font-family=\"Helvetica,sans-Serif\" font-size=\"14.00\">value = [0, 2, 0, 1, 1, 0, 0, 3, 1, 0, 0, 0, 0, 0</text>\n",
       "<text text-anchor=\"start\" x=\"321.88\" y=\"-387.7\" font-family=\"Helvetica,sans-Serif\" font-size=\"14.00\">0, 0, 0, 0, 0, 0, 0, 0, 0, 0, 0, 0, 0, 1</text>\n",
       "<text text-anchor=\"start\" x=\"321.88\" y=\"-373.7\" font-family=\"Helvetica,sans-Serif\" font-size=\"14.00\">0, 0, 0, 0, 0, 0, 0, 0, 0, 0, 0, 0, 0, 0</text>\n",
       "<text text-anchor=\"start\" x=\"321.88\" y=\"-359.7\" font-family=\"Helvetica,sans-Serif\" font-size=\"14.00\">0, 0, 0, 0, 0, 0, 0, 0, 0, 0, 0, 0, 0, 0</text>\n",
       "<text text-anchor=\"start\" x=\"321.88\" y=\"-345.7\" font-family=\"Helvetica,sans-Serif\" font-size=\"14.00\">0, 0, 0, 0, 0, 0, 0, 0, 0, 0, 0, 0, 0, 0</text>\n",
       "<text text-anchor=\"start\" x=\"321.88\" y=\"-331.7\" font-family=\"Helvetica,sans-Serif\" font-size=\"14.00\">0, 0, 0, 0, 0, 0, 0, 0, 0, 0, 0, 0, 0, 0</text>\n",
       "<text text-anchor=\"start\" x=\"321.88\" y=\"-317.7\" font-family=\"Helvetica,sans-Serif\" font-size=\"14.00\">0, 0, 0, 0, 0, 0, 0, 0, 0, 0, 0, 0, 0, 0</text>\n",
       "<text text-anchor=\"start\" x=\"321.88\" y=\"-303.7\" font-family=\"Helvetica,sans-Serif\" font-size=\"14.00\">0, 0, 0, 0, 0, 0, 0, 0, 0, 0, 0, 0, 0, 0</text>\n",
       "<text text-anchor=\"start\" x=\"335\" y=\"-289.7\" font-family=\"Helvetica,sans-Serif\" font-size=\"14.00\">0, 0, 0, 0, 0, 0, 0, 0, 0, 0, 0, 0]</text>\n",
       "</g>\n",
       "<!-- 2&#45;&gt;3 -->\n",
       "<g id=\"edge3\" class=\"edge\">\n",
       "<title>2&#45;&gt;3</title>\n",
       "<path fill=\"none\" stroke=\"black\" d=\"M507.31,-495.77C501.28,-486.98 495.14,-478.01 489.05,-469.14\"/>\n",
       "<polygon fill=\"black\" stroke=\"black\" points=\"491.53,-467.57 482.99,-461.3 485.76,-471.53 491.53,-467.57\"/>\n",
       "</g>\n",
       "<!-- 14 -->\n",
       "<g id=\"node11\" class=\"node\">\n",
       "<title>14</title>\n",
       "<path fill=\"#fffffd\" stroke=\"black\" d=\"M834.25,-460C834.25,-460 588,-460 588,-460 582,-460 576,-454 576,-448 576,-448 576,-296 576,-296 576,-290 582,-284 588,-284 588,-284 834.25,-284 834.25,-284 840.25,-284 846.25,-290 846.25,-296 846.25,-296 846.25,-448 846.25,-448 846.25,-454 840.25,-460 834.25,-460\"/>\n",
       "<text text-anchor=\"start\" x=\"676.25\" y=\"-443.7\" font-family=\"Helvetica,sans-Serif\" font-size=\"14.00\">x</text>\n",
       "<text text-anchor=\"start\" x=\"683\" y=\"-443.7\" font-family=\"Helvetica,sans-Serif\" baseline-shift=\"sub\" font-size=\"14.00\">0</text>\n",
       "<text text-anchor=\"start\" x=\"689.75\" y=\"-443.7\" font-family=\"Helvetica,sans-Serif\" font-size=\"14.00\"> ≤ 2816.0</text>\n",
       "<text text-anchor=\"start\" x=\"675.88\" y=\"-429.7\" font-family=\"Helvetica,sans-Serif\" font-size=\"14.00\">gini = 0.991</text>\n",
       "<text text-anchor=\"start\" x=\"666.5\" y=\"-415.7\" font-family=\"Helvetica,sans-Serif\" font-size=\"14.00\">samples = 127</text>\n",
       "<text text-anchor=\"start\" x=\"584\" y=\"-401.7\" font-family=\"Helvetica,sans-Serif\" font-size=\"14.00\">value = [0, 1, 3, 0, 0, 1, 1, 0, 0, 2, 4, 1, 1, 1</text>\n",
       "<text text-anchor=\"start\" x=\"609.88\" y=\"-387.7\" font-family=\"Helvetica,sans-Serif\" font-size=\"14.00\">1, 1, 1, 1, 2, 1, 1, 1, 1, 1, 1, 1, 1, 0</text>\n",
       "<text text-anchor=\"start\" x=\"609.88\" y=\"-373.7\" font-family=\"Helvetica,sans-Serif\" font-size=\"14.00\">1, 1, 1, 1, 2, 1, 1, 2, 1, 1, 1, 1, 1, 1</text>\n",
       "<text text-anchor=\"start\" x=\"609.88\" y=\"-359.7\" font-family=\"Helvetica,sans-Serif\" font-size=\"14.00\">1, 1, 1, 1, 1, 1, 1, 1, 1, 1, 1, 1, 1, 1</text>\n",
       "<text text-anchor=\"start\" x=\"609.88\" y=\"-345.7\" font-family=\"Helvetica,sans-Serif\" font-size=\"14.00\">1, 1, 1, 1, 1, 1, 1, 1, 1, 1, 1, 1, 1, 1</text>\n",
       "<text text-anchor=\"start\" x=\"609.88\" y=\"-331.7\" font-family=\"Helvetica,sans-Serif\" font-size=\"14.00\">1, 1, 1, 1, 1, 1, 1, 1, 1, 1, 1, 1, 1, 1</text>\n",
       "<text text-anchor=\"start\" x=\"609.88\" y=\"-317.7\" font-family=\"Helvetica,sans-Serif\" font-size=\"14.00\">1, 1, 1, 1, 1, 1, 1, 1, 1, 1, 1, 1, 1, 1</text>\n",
       "<text text-anchor=\"start\" x=\"609.88\" y=\"-303.7\" font-family=\"Helvetica,sans-Serif\" font-size=\"14.00\">1, 1, 1, 1, 1, 1, 1, 1, 1, 1, 1, 1, 1, 1</text>\n",
       "<text text-anchor=\"start\" x=\"623\" y=\"-289.7\" font-family=\"Helvetica,sans-Serif\" font-size=\"14.00\">1, 1, 1, 1, 1, 1, 1, 1, 1, 1, 1, 1]</text>\n",
       "</g>\n",
       "<!-- 2&#45;&gt;14 -->\n",
       "<g id=\"edge10\" class=\"edge\">\n",
       "<title>2&#45;&gt;14</title>\n",
       "<path fill=\"none\" stroke=\"black\" d=\"M626.94,-495.77C632.97,-486.98 639.11,-478.01 645.2,-469.14\"/>\n",
       "<polygon fill=\"black\" stroke=\"black\" points=\"648.49,-471.53 651.26,-461.3 642.72,-467.57 648.49,-471.53\"/>\n",
       "</g>\n",
       "<!-- 4 -->\n",
       "<g id=\"node5\" class=\"node\">\n",
       "<title>4</title>\n",
       "<path fill=\"#f8e1ce\" stroke=\"black\" d=\"M258.25,-248C258.25,-248 12,-248 12,-248 6,-248 0,-242 0,-236 0,-236 0,-84 0,-84 0,-78 6,-72 12,-72 12,-72 258.25,-72 258.25,-72 264.25,-72 270.25,-78 270.25,-84 270.25,-84 270.25,-236 270.25,-236 270.25,-242 264.25,-248 258.25,-248\"/>\n",
       "<text text-anchor=\"start\" x=\"104\" y=\"-231.7\" font-family=\"Helvetica,sans-Serif\" font-size=\"14.00\">x</text>\n",
       "<text text-anchor=\"start\" x=\"110.75\" y=\"-231.7\" font-family=\"Helvetica,sans-Serif\" baseline-shift=\"sub\" font-size=\"14.00\">0</text>\n",
       "<text text-anchor=\"start\" x=\"117.5\" y=\"-231.7\" font-family=\"Helvetica,sans-Serif\" font-size=\"14.00\"> ≤ 101.0</text>\n",
       "<text text-anchor=\"start\" x=\"103.62\" y=\"-217.7\" font-family=\"Helvetica,sans-Serif\" font-size=\"14.00\">gini = 0.72</text>\n",
       "<text text-anchor=\"start\" x=\"98\" y=\"-203.7\" font-family=\"Helvetica,sans-Serif\" font-size=\"14.00\">samples = 5</text>\n",
       "<text text-anchor=\"start\" x=\"8\" y=\"-189.7\" font-family=\"Helvetica,sans-Serif\" font-size=\"14.00\">value = [0, 2, 0, 1, 1, 0, 0, 0, 0, 0, 0, 0, 0, 0</text>\n",
       "<text text-anchor=\"start\" x=\"33.88\" y=\"-175.7\" font-family=\"Helvetica,sans-Serif\" font-size=\"14.00\">0, 0, 0, 0, 0, 0, 0, 0, 0, 0, 0, 0, 0, 1</text>\n",
       "<text text-anchor=\"start\" x=\"33.88\" y=\"-161.7\" font-family=\"Helvetica,sans-Serif\" font-size=\"14.00\">0, 0, 0, 0, 0, 0, 0, 0, 0, 0, 0, 0, 0, 0</text>\n",
       "<text text-anchor=\"start\" x=\"33.88\" y=\"-147.7\" font-family=\"Helvetica,sans-Serif\" font-size=\"14.00\">0, 0, 0, 0, 0, 0, 0, 0, 0, 0, 0, 0, 0, 0</text>\n",
       "<text text-anchor=\"start\" x=\"33.88\" y=\"-133.7\" font-family=\"Helvetica,sans-Serif\" font-size=\"14.00\">0, 0, 0, 0, 0, 0, 0, 0, 0, 0, 0, 0, 0, 0</text>\n",
       "<text text-anchor=\"start\" x=\"33.88\" y=\"-119.7\" font-family=\"Helvetica,sans-Serif\" font-size=\"14.00\">0, 0, 0, 0, 0, 0, 0, 0, 0, 0, 0, 0, 0, 0</text>\n",
       "<text text-anchor=\"start\" x=\"33.88\" y=\"-105.7\" font-family=\"Helvetica,sans-Serif\" font-size=\"14.00\">0, 0, 0, 0, 0, 0, 0, 0, 0, 0, 0, 0, 0, 0</text>\n",
       "<text text-anchor=\"start\" x=\"33.88\" y=\"-91.7\" font-family=\"Helvetica,sans-Serif\" font-size=\"14.00\">0, 0, 0, 0, 0, 0, 0, 0, 0, 0, 0, 0, 0, 0</text>\n",
       "<text text-anchor=\"start\" x=\"47\" y=\"-77.7\" font-family=\"Helvetica,sans-Serif\" font-size=\"14.00\">0, 0, 0, 0, 0, 0, 0, 0, 0, 0, 0, 0]</text>\n",
       "</g>\n",
       "<!-- 3&#45;&gt;4 -->\n",
       "<g id=\"edge4\" class=\"edge\">\n",
       "<title>3&#45;&gt;4</title>\n",
       "<path fill=\"none\" stroke=\"black\" d=\"M303.49,-283.77C290.3,-274.15 276.84,-264.33 263.55,-254.65\"/>\n",
       "<polygon fill=\"black\" stroke=\"black\" points=\"265.99,-251.36 255.85,-248.3 261.87,-257.02 265.99,-251.36\"/>\n",
       "</g>\n",
       "<!-- 11 -->\n",
       "<g id=\"node8\" class=\"node\">\n",
       "<title>11</title>\n",
       "<path fill=\"#eed17b\" stroke=\"black\" d=\"M546.25,-248C546.25,-248 300,-248 300,-248 294,-248 288,-242 288,-236 288,-236 288,-84 288,-84 288,-78 294,-72 300,-72 300,-72 546.25,-72 546.25,-72 552.25,-72 558.25,-78 558.25,-84 558.25,-84 558.25,-236 558.25,-236 558.25,-242 552.25,-248 546.25,-248\"/>\n",
       "<text text-anchor=\"start\" x=\"392.38\" y=\"-231.7\" font-family=\"Helvetica,sans-Serif\" font-size=\"14.00\">x</text>\n",
       "<text text-anchor=\"start\" x=\"399.12\" y=\"-231.7\" font-family=\"Helvetica,sans-Serif\" baseline-shift=\"sub\" font-size=\"14.00\">10</text>\n",
       "<text text-anchor=\"start\" x=\"412.62\" y=\"-231.7\" font-family=\"Helvetica,sans-Serif\" font-size=\"14.00\"> ≤ 7.01</text>\n",
       "<text text-anchor=\"start\" x=\"387.88\" y=\"-217.7\" font-family=\"Helvetica,sans-Serif\" font-size=\"14.00\">gini = 0.375</text>\n",
       "<text text-anchor=\"start\" x=\"386\" y=\"-203.7\" font-family=\"Helvetica,sans-Serif\" font-size=\"14.00\">samples = 4</text>\n",
       "<text text-anchor=\"start\" x=\"296\" y=\"-189.7\" font-family=\"Helvetica,sans-Serif\" font-size=\"14.00\">value = [0, 0, 0, 0, 0, 0, 0, 3, 1, 0, 0, 0, 0, 0</text>\n",
       "<text text-anchor=\"start\" x=\"321.88\" y=\"-175.7\" font-family=\"Helvetica,sans-Serif\" font-size=\"14.00\">0, 0, 0, 0, 0, 0, 0, 0, 0, 0, 0, 0, 0, 0</text>\n",
       "<text text-anchor=\"start\" x=\"321.88\" y=\"-161.7\" font-family=\"Helvetica,sans-Serif\" font-size=\"14.00\">0, 0, 0, 0, 0, 0, 0, 0, 0, 0, 0, 0, 0, 0</text>\n",
       "<text text-anchor=\"start\" x=\"321.88\" y=\"-147.7\" font-family=\"Helvetica,sans-Serif\" font-size=\"14.00\">0, 0, 0, 0, 0, 0, 0, 0, 0, 0, 0, 0, 0, 0</text>\n",
       "<text text-anchor=\"start\" x=\"321.88\" y=\"-133.7\" font-family=\"Helvetica,sans-Serif\" font-size=\"14.00\">0, 0, 0, 0, 0, 0, 0, 0, 0, 0, 0, 0, 0, 0</text>\n",
       "<text text-anchor=\"start\" x=\"321.88\" y=\"-119.7\" font-family=\"Helvetica,sans-Serif\" font-size=\"14.00\">0, 0, 0, 0, 0, 0, 0, 0, 0, 0, 0, 0, 0, 0</text>\n",
       "<text text-anchor=\"start\" x=\"321.88\" y=\"-105.7\" font-family=\"Helvetica,sans-Serif\" font-size=\"14.00\">0, 0, 0, 0, 0, 0, 0, 0, 0, 0, 0, 0, 0, 0</text>\n",
       "<text text-anchor=\"start\" x=\"321.88\" y=\"-91.7\" font-family=\"Helvetica,sans-Serif\" font-size=\"14.00\">0, 0, 0, 0, 0, 0, 0, 0, 0, 0, 0, 0, 0, 0</text>\n",
       "<text text-anchor=\"start\" x=\"335\" y=\"-77.7\" font-family=\"Helvetica,sans-Serif\" font-size=\"14.00\">0, 0, 0, 0, 0, 0, 0, 0, 0, 0, 0, 0]</text>\n",
       "</g>\n",
       "<!-- 3&#45;&gt;11 -->\n",
       "<g id=\"edge7\" class=\"edge\">\n",
       "<title>3&#45;&gt;11</title>\n",
       "<path fill=\"none\" stroke=\"black\" d=\"M423.12,-283.77C423.12,-275.62 423.12,-267.32 423.12,-259.08\"/>\n",
       "<polygon fill=\"black\" stroke=\"black\" points=\"426.63,-259.3 423.12,-249.3 419.63,-259.3 426.63,-259.3\"/>\n",
       "</g>\n",
       "<!-- 5 -->\n",
       "<g id=\"node6\" class=\"node\">\n",
       "<title>5</title>\n",
       "<path fill=\"#c0c0c0\" stroke=\"black\" d=\"M114.12,-36C114.12,-36 84.12,-36 84.12,-36 78.12,-36 72.12,-30 72.12,-24 72.12,-24 72.12,-12 72.12,-12 72.12,-6 78.12,0 84.12,0 84.12,0 114.12,0 114.12,0 120.12,0 126.12,-6 126.12,-12 126.12,-12 126.12,-24 126.12,-24 126.12,-30 120.12,-36 114.12,-36\"/>\n",
       "<text text-anchor=\"middle\" x=\"99.12\" y=\"-12.2\" font-family=\"Helvetica,sans-Serif\" font-size=\"14.00\">(...)</text>\n",
       "</g>\n",
       "<!-- 4&#45;&gt;5 -->\n",
       "<g id=\"edge5\" class=\"edge\">\n",
       "<title>4&#45;&gt;5</title>\n",
       "<path fill=\"none\" stroke=\"black\" d=\"M112.63,-71.53C110.37,-62.72 108.2,-54.31 106.3,-46.89\"/>\n",
       "<polygon fill=\"black\" stroke=\"black\" points=\"109.5,-46.31 103.62,-37.49 102.72,-48.05 109.5,-46.31\"/>\n",
       "</g>\n",
       "<!-- 6 -->\n",
       "<g id=\"node7\" class=\"node\">\n",
       "<title>6</title>\n",
       "<path fill=\"#c0c0c0\" stroke=\"black\" d=\"M186.12,-36C186.12,-36 156.12,-36 156.12,-36 150.12,-36 144.12,-30 144.12,-24 144.12,-24 144.12,-12 144.12,-12 144.12,-6 150.12,0 156.12,0 156.12,0 186.12,0 186.12,0 192.12,0 198.12,-6 198.12,-12 198.12,-12 198.12,-24 198.12,-24 198.12,-30 192.12,-36 186.12,-36\"/>\n",
       "<text text-anchor=\"middle\" x=\"171.12\" y=\"-12.2\" font-family=\"Helvetica,sans-Serif\" font-size=\"14.00\">(...)</text>\n",
       "</g>\n",
       "<!-- 4&#45;&gt;6 -->\n",
       "<g id=\"edge6\" class=\"edge\">\n",
       "<title>4&#45;&gt;6</title>\n",
       "<path fill=\"none\" stroke=\"black\" d=\"M157.62,-71.53C159.88,-62.72 162.05,-54.31 163.95,-46.89\"/>\n",
       "<polygon fill=\"black\" stroke=\"black\" points=\"167.53,-48.05 166.63,-37.49 160.75,-46.31 167.53,-48.05\"/>\n",
       "</g>\n",
       "<!-- 12 -->\n",
       "<g id=\"node9\" class=\"node\">\n",
       "<title>12</title>\n",
       "<path fill=\"#c0c0c0\" stroke=\"black\" d=\"M402.12,-36C402.12,-36 372.12,-36 372.12,-36 366.12,-36 360.12,-30 360.12,-24 360.12,-24 360.12,-12 360.12,-12 360.12,-6 366.12,0 372.12,0 372.12,0 402.12,0 402.12,0 408.12,0 414.12,-6 414.12,-12 414.12,-12 414.12,-24 414.12,-24 414.12,-30 408.12,-36 402.12,-36\"/>\n",
       "<text text-anchor=\"middle\" x=\"387.12\" y=\"-12.2\" font-family=\"Helvetica,sans-Serif\" font-size=\"14.00\">(...)</text>\n",
       "</g>\n",
       "<!-- 11&#45;&gt;12 -->\n",
       "<g id=\"edge8\" class=\"edge\">\n",
       "<title>11&#45;&gt;12</title>\n",
       "<path fill=\"none\" stroke=\"black\" d=\"M400.63,-71.53C398.37,-62.72 396.2,-54.31 394.3,-46.89\"/>\n",
       "<polygon fill=\"black\" stroke=\"black\" points=\"397.5,-46.31 391.62,-37.49 390.72,-48.05 397.5,-46.31\"/>\n",
       "</g>\n",
       "<!-- 13 -->\n",
       "<g id=\"node10\" class=\"node\">\n",
       "<title>13</title>\n",
       "<path fill=\"#c0c0c0\" stroke=\"black\" d=\"M474.12,-36C474.12,-36 444.12,-36 444.12,-36 438.12,-36 432.12,-30 432.12,-24 432.12,-24 432.12,-12 432.12,-12 432.12,-6 438.12,0 444.12,0 444.12,0 474.12,0 474.12,0 480.12,0 486.12,-6 486.12,-12 486.12,-12 486.12,-24 486.12,-24 486.12,-30 480.12,-36 474.12,-36\"/>\n",
       "<text text-anchor=\"middle\" x=\"459.12\" y=\"-12.2\" font-family=\"Helvetica,sans-Serif\" font-size=\"14.00\">(...)</text>\n",
       "</g>\n",
       "<!-- 11&#45;&gt;13 -->\n",
       "<g id=\"edge9\" class=\"edge\">\n",
       "<title>11&#45;&gt;13</title>\n",
       "<path fill=\"none\" stroke=\"black\" d=\"M445.62,-71.53C447.88,-62.72 450.05,-54.31 451.95,-46.89\"/>\n",
       "<polygon fill=\"black\" stroke=\"black\" points=\"455.53,-48.05 454.63,-37.49 448.75,-46.31 455.53,-48.05\"/>\n",
       "</g>\n",
       "<!-- 15 -->\n",
       "<g id=\"node12\" class=\"node\">\n",
       "<title>15</title>\n",
       "<path fill=\"#fefef8\" stroke=\"black\" d=\"M834.25,-248C834.25,-248 588,-248 588,-248 582,-248 576,-242 576,-236 576,-236 576,-84 576,-84 576,-78 582,-72 588,-72 588,-72 834.25,-72 834.25,-72 840.25,-72 846.25,-78 846.25,-84 846.25,-84 846.25,-236 846.25,-236 846.25,-242 840.25,-248 834.25,-248\"/>\n",
       "<text text-anchor=\"start\" x=\"680\" y=\"-231.7\" font-family=\"Helvetica,sans-Serif\" font-size=\"14.00\">x</text>\n",
       "<text text-anchor=\"start\" x=\"686.75\" y=\"-231.7\" font-family=\"Helvetica,sans-Serif\" baseline-shift=\"sub\" font-size=\"14.00\">1</text>\n",
       "<text text-anchor=\"start\" x=\"693.5\" y=\"-231.7\" font-family=\"Helvetica,sans-Serif\" font-size=\"14.00\"> ≤ 109.5</text>\n",
       "<text text-anchor=\"start\" x=\"675.88\" y=\"-217.7\" font-family=\"Helvetica,sans-Serif\" font-size=\"14.00\">gini = 0.947</text>\n",
       "<text text-anchor=\"start\" x=\"670.25\" y=\"-203.7\" font-family=\"Helvetica,sans-Serif\" font-size=\"14.00\">samples = 32</text>\n",
       "<text text-anchor=\"start\" x=\"584\" y=\"-189.7\" font-family=\"Helvetica,sans-Serif\" font-size=\"14.00\">value = [0, 1, 3, 0, 0, 1, 1, 0, 0, 2, 4, 1, 1, 0</text>\n",
       "<text text-anchor=\"start\" x=\"609.88\" y=\"-175.7\" font-family=\"Helvetica,sans-Serif\" font-size=\"14.00\">1, 1, 1, 1, 2, 1, 1, 0, 1, 1, 1, 1, 1, 0</text>\n",
       "<text text-anchor=\"start\" x=\"609.88\" y=\"-161.7\" font-family=\"Helvetica,sans-Serif\" font-size=\"14.00\">0, 0, 0, 0, 0, 1, 0, 0, 0, 0, 1, 0, 1, 0</text>\n",
       "<text text-anchor=\"start\" x=\"609.88\" y=\"-147.7\" font-family=\"Helvetica,sans-Serif\" font-size=\"14.00\">0, 0, 0, 0, 0, 1, 0, 0, 0, 0, 0, 0, 0, 0</text>\n",
       "<text text-anchor=\"start\" x=\"609.88\" y=\"-133.7\" font-family=\"Helvetica,sans-Serif\" font-size=\"14.00\">0, 0, 0, 0, 0, 0, 0, 0, 0, 0, 0, 0, 0, 0</text>\n",
       "<text text-anchor=\"start\" x=\"609.88\" y=\"-119.7\" font-family=\"Helvetica,sans-Serif\" font-size=\"14.00\">0, 0, 0, 0, 0, 0, 0, 0, 0, 1, 0, 0, 0, 0</text>\n",
       "<text text-anchor=\"start\" x=\"609.88\" y=\"-105.7\" font-family=\"Helvetica,sans-Serif\" font-size=\"14.00\">0, 0, 0, 0, 0, 0, 0, 0, 0, 0, 0, 0, 0, 0</text>\n",
       "<text text-anchor=\"start\" x=\"609.88\" y=\"-91.7\" font-family=\"Helvetica,sans-Serif\" font-size=\"14.00\">0, 0, 0, 0, 0, 0, 0, 0, 0, 0, 0, 0, 0, 0</text>\n",
       "<text text-anchor=\"start\" x=\"623\" y=\"-77.7\" font-family=\"Helvetica,sans-Serif\" font-size=\"14.00\">0, 0, 0, 0, 0, 0, 0, 0, 0, 0, 0, 0]</text>\n",
       "</g>\n",
       "<!-- 14&#45;&gt;15 -->\n",
       "<g id=\"edge11\" class=\"edge\">\n",
       "<title>14&#45;&gt;15</title>\n",
       "<path fill=\"none\" stroke=\"black\" d=\"M711.12,-283.77C711.12,-275.62 711.12,-267.32 711.12,-259.08\"/>\n",
       "<polygon fill=\"black\" stroke=\"black\" points=\"714.63,-259.3 711.12,-249.3 707.63,-259.3 714.63,-259.3\"/>\n",
       "</g>\n",
       "<!-- 72 -->\n",
       "<g id=\"node15\" class=\"node\">\n",
       "<title>72</title>\n",
       "<path fill=\"#ffffff\" stroke=\"black\" d=\"M1122.25,-248C1122.25,-248 876,-248 876,-248 870,-248 864,-242 864,-236 864,-236 864,-84 864,-84 864,-78 870,-72 876,-72 876,-72 1122.25,-72 1122.25,-72 1128.25,-72 1134.25,-78 1134.25,-84 1134.25,-84 1134.25,-236 1134.25,-236 1134.25,-242 1128.25,-248 1122.25,-248\"/>\n",
       "<text text-anchor=\"start\" x=\"968\" y=\"-231.7\" font-family=\"Helvetica,sans-Serif\" font-size=\"14.00\">x</text>\n",
       "<text text-anchor=\"start\" x=\"974.75\" y=\"-231.7\" font-family=\"Helvetica,sans-Serif\" baseline-shift=\"sub\" font-size=\"14.00\">2</text>\n",
       "<text text-anchor=\"start\" x=\"981.5\" y=\"-231.7\" font-family=\"Helvetica,sans-Serif\" font-size=\"14.00\"> ≤ 138.5</text>\n",
       "<text text-anchor=\"start\" x=\"963.88\" y=\"-217.7\" font-family=\"Helvetica,sans-Serif\" font-size=\"14.00\">gini = 0.989</text>\n",
       "<text text-anchor=\"start\" x=\"958.25\" y=\"-203.7\" font-family=\"Helvetica,sans-Serif\" font-size=\"14.00\">samples = 95</text>\n",
       "<text text-anchor=\"start\" x=\"872\" y=\"-189.7\" font-family=\"Helvetica,sans-Serif\" font-size=\"14.00\">value = [0, 0, 0, 0, 0, 0, 0, 0, 0, 0, 0, 0, 0, 1</text>\n",
       "<text text-anchor=\"start\" x=\"897.88\" y=\"-175.7\" font-family=\"Helvetica,sans-Serif\" font-size=\"14.00\">0, 0, 0, 0, 0, 0, 0, 1, 0, 0, 0, 0, 0, 0</text>\n",
       "<text text-anchor=\"start\" x=\"897.88\" y=\"-161.7\" font-family=\"Helvetica,sans-Serif\" font-size=\"14.00\">1, 1, 1, 1, 2, 0, 1, 2, 1, 1, 0, 1, 0, 1</text>\n",
       "<text text-anchor=\"start\" x=\"897.88\" y=\"-147.7\" font-family=\"Helvetica,sans-Serif\" font-size=\"14.00\">1, 1, 1, 1, 1, 0, 1, 1, 1, 1, 1, 1, 1, 1</text>\n",
       "<text text-anchor=\"start\" x=\"897.88\" y=\"-133.7\" font-family=\"Helvetica,sans-Serif\" font-size=\"14.00\">1, 1, 1, 1, 1, 1, 1, 1, 1, 1, 1, 1, 1, 1</text>\n",
       "<text text-anchor=\"start\" x=\"897.88\" y=\"-119.7\" font-family=\"Helvetica,sans-Serif\" font-size=\"14.00\">1, 1, 1, 1, 1, 1, 1, 1, 1, 0, 1, 1, 1, 1</text>\n",
       "<text text-anchor=\"start\" x=\"897.88\" y=\"-105.7\" font-family=\"Helvetica,sans-Serif\" font-size=\"14.00\">1, 1, 1, 1, 1, 1, 1, 1, 1, 1, 1, 1, 1, 1</text>\n",
       "<text text-anchor=\"start\" x=\"897.88\" y=\"-91.7\" font-family=\"Helvetica,sans-Serif\" font-size=\"14.00\">1, 1, 1, 1, 1, 1, 1, 1, 1, 1, 1, 1, 1, 1</text>\n",
       "<text text-anchor=\"start\" x=\"911\" y=\"-77.7\" font-family=\"Helvetica,sans-Serif\" font-size=\"14.00\">1, 1, 1, 1, 1, 1, 1, 1, 1, 1, 1, 1]</text>\n",
       "</g>\n",
       "<!-- 14&#45;&gt;72 -->\n",
       "<g id=\"edge14\" class=\"edge\">\n",
       "<title>14&#45;&gt;72</title>\n",
       "<path fill=\"none\" stroke=\"black\" d=\"M830.76,-283.77C843.95,-274.15 857.41,-264.33 870.7,-254.65\"/>\n",
       "<polygon fill=\"black\" stroke=\"black\" points=\"872.38,-257.02 878.4,-248.3 868.26,-251.36 872.38,-257.02\"/>\n",
       "</g>\n",
       "<!-- 16 -->\n",
       "<g id=\"node13\" class=\"node\">\n",
       "<title>16</title>\n",
       "<path fill=\"#c0c0c0\" stroke=\"black\" d=\"M690.12,-36C690.12,-36 660.12,-36 660.12,-36 654.12,-36 648.12,-30 648.12,-24 648.12,-24 648.12,-12 648.12,-12 648.12,-6 654.12,0 660.12,0 660.12,0 690.12,0 690.12,0 696.12,0 702.12,-6 702.12,-12 702.12,-12 702.12,-24 702.12,-24 702.12,-30 696.12,-36 690.12,-36\"/>\n",
       "<text text-anchor=\"middle\" x=\"675.12\" y=\"-12.2\" font-family=\"Helvetica,sans-Serif\" font-size=\"14.00\">(...)</text>\n",
       "</g>\n",
       "<!-- 15&#45;&gt;16 -->\n",
       "<g id=\"edge12\" class=\"edge\">\n",
       "<title>15&#45;&gt;16</title>\n",
       "<path fill=\"none\" stroke=\"black\" d=\"M688.63,-71.53C686.37,-62.72 684.2,-54.31 682.3,-46.89\"/>\n",
       "<polygon fill=\"black\" stroke=\"black\" points=\"685.5,-46.31 679.62,-37.49 678.72,-48.05 685.5,-46.31\"/>\n",
       "</g>\n",
       "<!-- 21 -->\n",
       "<g id=\"node14\" class=\"node\">\n",
       "<title>21</title>\n",
       "<path fill=\"#c0c0c0\" stroke=\"black\" d=\"M762.12,-36C762.12,-36 732.12,-36 732.12,-36 726.12,-36 720.12,-30 720.12,-24 720.12,-24 720.12,-12 720.12,-12 720.12,-6 726.12,0 732.12,0 732.12,0 762.12,0 762.12,0 768.12,0 774.12,-6 774.12,-12 774.12,-12 774.12,-24 774.12,-24 774.12,-30 768.12,-36 762.12,-36\"/>\n",
       "<text text-anchor=\"middle\" x=\"747.12\" y=\"-12.2\" font-family=\"Helvetica,sans-Serif\" font-size=\"14.00\">(...)</text>\n",
       "</g>\n",
       "<!-- 15&#45;&gt;21 -->\n",
       "<g id=\"edge13\" class=\"edge\">\n",
       "<title>15&#45;&gt;21</title>\n",
       "<path fill=\"none\" stroke=\"black\" d=\"M733.62,-71.53C735.88,-62.72 738.05,-54.31 739.95,-46.89\"/>\n",
       "<polygon fill=\"black\" stroke=\"black\" points=\"743.53,-48.05 742.63,-37.49 736.75,-46.31 743.53,-48.05\"/>\n",
       "</g>\n",
       "<!-- 73 -->\n",
       "<g id=\"node16\" class=\"node\">\n",
       "<title>73</title>\n",
       "<path fill=\"#c0c0c0\" stroke=\"black\" d=\"M978.12,-36C978.12,-36 948.12,-36 948.12,-36 942.12,-36 936.12,-30 936.12,-24 936.12,-24 936.12,-12 936.12,-12 936.12,-6 942.12,0 948.12,0 948.12,0 978.12,0 978.12,0 984.12,0 990.12,-6 990.12,-12 990.12,-12 990.12,-24 990.12,-24 990.12,-30 984.12,-36 978.12,-36\"/>\n",
       "<text text-anchor=\"middle\" x=\"963.12\" y=\"-12.2\" font-family=\"Helvetica,sans-Serif\" font-size=\"14.00\">(...)</text>\n",
       "</g>\n",
       "<!-- 72&#45;&gt;73 -->\n",
       "<g id=\"edge15\" class=\"edge\">\n",
       "<title>72&#45;&gt;73</title>\n",
       "<path fill=\"none\" stroke=\"black\" d=\"M976.63,-71.53C974.37,-62.72 972.2,-54.31 970.3,-46.89\"/>\n",
       "<polygon fill=\"black\" stroke=\"black\" points=\"973.5,-46.31 967.62,-37.49 966.72,-48.05 973.5,-46.31\"/>\n",
       "</g>\n",
       "<!-- 76 -->\n",
       "<g id=\"node17\" class=\"node\">\n",
       "<title>76</title>\n",
       "<path fill=\"#c0c0c0\" stroke=\"black\" d=\"M1050.12,-36C1050.12,-36 1020.12,-36 1020.12,-36 1014.12,-36 1008.12,-30 1008.12,-24 1008.12,-24 1008.12,-12 1008.12,-12 1008.12,-6 1014.12,0 1020.12,0 1020.12,0 1050.12,0 1050.12,0 1056.12,0 1062.12,-6 1062.12,-12 1062.12,-12 1062.12,-24 1062.12,-24 1062.12,-30 1056.12,-36 1050.12,-36\"/>\n",
       "<text text-anchor=\"middle\" x=\"1035.12\" y=\"-12.2\" font-family=\"Helvetica,sans-Serif\" font-size=\"14.00\">(...)</text>\n",
       "</g>\n",
       "<!-- 72&#45;&gt;76 -->\n",
       "<g id=\"edge16\" class=\"edge\">\n",
       "<title>72&#45;&gt;76</title>\n",
       "<path fill=\"none\" stroke=\"black\" d=\"M1021.62,-71.53C1023.88,-62.72 1026.05,-54.31 1027.95,-46.89\"/>\n",
       "<polygon fill=\"black\" stroke=\"black\" points=\"1031.53,-48.05 1030.63,-37.49 1024.75,-46.31 1031.53,-48.05\"/>\n",
       "</g>\n",
       "</g>\n",
       "</svg>\n"
      ],
      "text/plain": [
       "<graphviz.sources.Source at 0x12601d3d0>"
      ]
     },
     "execution_count": 25,
     "metadata": {},
     "output_type": "execute_result"
    }
   ],
   "source": [
    "dot_data = export_graphviz(clf, out_file=None,  \n",
    "                           filled=True, rounded=True, special_characters=True,max_depth=3)  \n",
    "graph = graphviz.Source(dot_data)  \n",
    "graph"
   ]
  },
  {
   "cell_type": "markdown",
   "id": "c5c30918",
   "metadata": {},
   "source": [
    "## Важность признаков"
   ]
  },
  {
   "cell_type": "code",
   "execution_count": 26,
   "id": "b55f147a",
   "metadata": {},
   "outputs": [
    {
     "data": {
      "text/plain": [
       "[('Confirmed', 0.1167356229848409),\n",
       " ('Recovered', 0.05130803693972785),\n",
       " ('Active', 0.09864902386422757),\n",
       " ('New cases', 0.0852090767682313),\n",
       " ('New deaths', 0.02045017842437551),\n",
       " ('New recovered', 0.027266904565834013),\n",
       " ('Deaths / 100 Cases', 0.22106492427696667),\n",
       " ('Recovered / 100 Cases', 0.06135053527312653),\n",
       " ('Confirmed last week', 0.06996670775627445),\n",
       " ('1 week change', 0.04090035684875102),\n",
       " ('1 week % increase', 0.06703114039100862),\n",
       " ('WHO Region_cat', 0.047717082990209526),\n",
       " ('Country/Regioncat', 0.09235040891642592)]"
      ]
     },
     "execution_count": 26,
     "metadata": {},
     "output_type": "execute_result"
    }
   ],
   "source": [
    "list(zip(X_train.columns.values, clf.feature_importances_))"
   ]
  },
  {
   "cell_type": "code",
   "execution_count": 27,
   "id": "0957f1cb",
   "metadata": {},
   "outputs": [],
   "source": [
    "from operator import itemgetter\n",
    "\n",
    "def draw_feature_importances(tree_model, X_dataset, figsize=(18,5)):\n",
    "    \"\"\"\n",
    "    Вывод важности признаков в виде графика\n",
    "    \"\"\"\n",
    "    # Сортировка значений важности признаков по убыванию\n",
    "    list_to_sort = list(zip(X_dataset.columns.values, tree_model.feature_importances_))\n",
    "    sorted_list = sorted(list_to_sort, key=itemgetter(1), reverse = True)\n",
    "    # Названия признаков\n",
    "    labels = [x for x,_ in sorted_list]\n",
    "    # Важности признаков\n",
    "    data = [x for _,x in sorted_list]\n",
    "    # Вывод графика\n",
    "    fig, ax = plt.subplots(figsize=figsize)\n",
    "    ind = np.arange(len(labels))\n",
    "    plt.bar(ind, data)\n",
    "    plt.xticks(ind, labels, rotation='vertical')\n",
    "    # Вывод значений\n",
    "    for a,b in zip(ind, data):\n",
    "        plt.text(a-0.05, b+0.01, str(round(b,3)))\n",
    "    plt.show()\n",
    "    return labels, data"
   ]
  },
  {
   "cell_type": "code",
   "execution_count": 28,
   "id": "4038f5fc",
   "metadata": {},
   "outputs": [
    {
     "data": {
      "image/png": "[encoded data removed]",
      "text/plain": [
       "<Figure size 1800x500 with 1 Axes>"
      ]
     },
     "metadata": {},
     "output_type": "display_data"
    }
   ],
   "source": [
    "dt_fl, dt_fd = draw_feature_importances(clf, X_train)"
   ]
  },
  {
   "cell_type": "code",
   "execution_count": null,
   "id": "c7cf9b24",
   "metadata": {},
   "outputs": [],
   "source": []
  },
  {
   "cell_type": "code",
   "execution_count": null,
   "id": "0f2b2d9f",
   "metadata": {},
   "outputs": [],
   "source": []
  }
 ],
 "metadata": {
  "kernelspec": {
   "display_name": "Python 3 (ipykernel)",
   "language": "python",
   "name": "python3"
  },
  "language_info": {
   "codemirror_mode": {
    "name": "ipython",
    "version": 3
   },
   "file_extension": ".py",
   "mimetype": "text/x-python",
   "name": "python",
   "nbconvert_exporter": "python",
   "pygments_lexer": "ipython3",
   "version": "3.11.1"
  }
 },
 "nbformat": 4,
 "nbformat_minor": 5
}
