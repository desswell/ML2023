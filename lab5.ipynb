{
 "cells": [
  {
   "cell_type": "markdown",
   "id": "78ff4762",
   "metadata": {},
   "source": [
    "## Предварительный анализ \n",
    "### Загрузим необходимые библиотеки "
   ]
  },
  {
   "cell_type": "code",
   "execution_count": 1,
   "id": "71a40bbc",
   "metadata": {},
   "outputs": [],
   "source": [
    "from io import StringIO \n",
    "from IPython.display import Image\n",
    "import graphviz \n",
    "import pydotplus\n",
    "import numpy as np\n",
    "import pandas as pd\n",
    "from typing import Dict, Tuple\n",
    "from sklearn.tree import DecisionTreeClassifier, DecisionTreeRegressor, export_graphviz\n",
    "from sklearn.model_selection import train_test_split\n",
    "from sklearn.model_selection import GridSearchCV\n",
    "from sklearn.ensemble import RandomForestRegressor, GradientBoostingRegressor\n",
    "from sklearn.ensemble import RandomForestClassifier, GradientBoostingClassifier\n",
    "from sklearn.preprocessing import StandardScaler\n",
    "from sklearn.linear_model import LogisticRegression\n",
    "from sklearn.metrics import accuracy_score, precision_score, recall_score, f1_score\n",
    "from sklearn.metrics import mean_absolute_error\n",
    "from sklearn.metrics import median_absolute_error, r2_score\n",
    "from sklearn.svm import NuSVR\n",
    "from sklearn import tree\n",
    "import matplotlib.pyplot as plt\n",
    "%matplotlib inline \n",
    "from sklearn.datasets import make_classification\n",
    "from sklearn.tree import DecisionTreeClassifier\n",
    "from sklearn.ensemble import BaggingClassifier, RandomForestClassifier\n",
    "from sklearn.metrics import accuracy_score\n",
    "import matplotlib.pyplot as plt\n",
    "import warnings\n",
    "warnings.filterwarnings('ignore')"
   ]
  },
  {
   "cell_type": "code",
   "execution_count": 2,
   "id": "7640d630",
   "metadata": {},
   "outputs": [],
   "source": [
    "df = pd.read_csv('./lab4/country_wise_latest.csv')"
   ]
  },
  {
   "cell_type": "markdown",
   "id": "a2f97d53",
   "metadata": {},
   "source": [
    "### Изучим полученные данные"
   ]
  },
  {
   "cell_type": "code",
   "execution_count": 3,
   "id": "282074e9",
   "metadata": {},
   "outputs": [
    {
     "name": "stdout",
     "output_type": "stream",
     "text": [
      "<class 'pandas.core.frame.DataFrame'>\n",
      "RangeIndex: 187 entries, 0 to 186\n",
      "Data columns (total 15 columns):\n",
      " #   Column                  Non-Null Count  Dtype  \n",
      "---  ------                  --------------  -----  \n",
      " 0   Country/Region          187 non-null    object \n",
      " 1   Confirmed               187 non-null    int64  \n",
      " 2   Deaths                  187 non-null    int64  \n",
      " 3   Recovered               187 non-null    int64  \n",
      " 4   Active                  187 non-null    int64  \n",
      " 5   New cases               187 non-null    int64  \n",
      " 6   New deaths              187 non-null    int64  \n",
      " 7   New recovered           187 non-null    int64  \n",
      " 8   Deaths / 100 Cases      187 non-null    float64\n",
      " 9   Recovered / 100 Cases   187 non-null    float64\n",
      " 10  Deaths / 100 Recovered  187 non-null    float64\n",
      " 11  Confirmed last week     187 non-null    int64  \n",
      " 12  1 week change           187 non-null    int64  \n",
      " 13  1 week % increase       187 non-null    float64\n",
      " 14  WHO Region              187 non-null    object \n",
      "dtypes: float64(4), int64(9), object(2)\n",
      "memory usage: 22.0+ KB\n"
     ]
    }
   ],
   "source": [
    "df.info()"
   ]
  },
  {
   "cell_type": "code",
   "execution_count": 4,
   "id": "1894f70f",
   "metadata": {},
   "outputs": [
    {
     "name": "stdout",
     "output_type": "stream",
     "text": [
      "<class 'pandas.core.frame.DataFrame'>\n",
      "RangeIndex: 187 entries, 0 to 186\n",
      "Data columns (total 3 columns):\n",
      " #   Column         Non-Null Count  Dtype\n",
      "---  ------         --------------  -----\n",
      " 0   New cases      187 non-null    int64\n",
      " 1   New deaths     187 non-null    int64\n",
      " 2   New recovered  187 non-null    int64\n",
      "dtypes: int64(3)\n",
      "memory usage: 4.5 KB\n"
     ]
    }
   ],
   "source": [
    "df = df[['New cases', 'New deaths', 'New recovered']]\n",
    "df.info()\n",
    "X = df.drop(['New deaths'], axis = 1)\n",
    "y = df['New deaths']\n",
    "X_train, X_test, y_train, y_test = train_test_split(X, y, test_size=0.2)"
   ]
  },
  {
   "cell_type": "code",
   "execution_count": 5,
   "id": "df24d490",
   "metadata": {},
   "outputs": [
    {
     "name": "stdout",
     "output_type": "stream",
     "text": [
      "Accuracy: 0.5\n",
      "Accuracy: 0.39473684210526316\n",
      "Accuracy: 0.4473684210526316\n"
     ]
    }
   ],
   "source": [
    "#1. Модель бэггинга - случайный лес (Random Forest):\n",
    "\n",
    "from sklearn.ensemble import RandomForestClassifier\n",
    "\n",
    "# Создаем модель случайного леса с 100 деревьями\n",
    "rf_model = RandomForestClassifier(n_estimators=50)\n",
    "\n",
    "# Обучаем модель на тренировочных данных\n",
    "rf_model.fit(X_train, y_train)\n",
    "\n",
    "# Оцениваем качество модели на тестовых данных\n",
    "accuracy = rf_model.score(X_test, y_test)\n",
    "print(\"Accuracy:\", accuracy)\n",
    "\n",
    "#2. Модель бустинга - градиентный бустинг (Gradient Boosting):\n",
    "\n",
    "from sklearn.ensemble import GradientBoostingClassifier\n",
    "\n",
    "# Создаем модель градиентного бустинга с 100 деревьями и скоростью обучения 0.1\n",
    "gb_model = GradientBoostingClassifier(n_estimators=50, learning_rate=0.1)\n",
    "\n",
    "# Обучаем модель на тренировочных данных\n",
    "gb_model.fit(X_train, y_train)\n",
    "\n",
    "# Оцениваем качество модели на тестовых данных\n",
    "accuracy = gb_model.score(X_test, y_test)\n",
    "print(\"Accuracy:\", accuracy)\n",
    "\n",
    "\n",
    "#3. Модель стекинга - мета-классификатор на основе логистической регрессии:\n",
    "\n",
    "\n",
    "from sklearn.ensemble import RandomForestClassifier, GradientBoostingClassifier\n",
    "from sklearn.linear_model import LogisticRegression\n",
    "from sklearn.model_selection import cross_val_predict\n",
    "\n",
    "# Обучаем базовые модели на тренировочных данных\n",
    "rf_preds = cross_val_predict(rf_model, X_train, y_train, method='predict_proba')\n",
    "gb_preds = cross_val_predict(gb_model, X_train, y_train, method='predict_proba')\n",
    "\n",
    "# Создаем мета-классификатор на основе логистической регрессии\n",
    "meta_model = LogisticRegression()\n",
    "\n",
    "# Обучаем мета-классификатор на прогнозах базовых моделей\n",
    "meta_model.fit(np.hstack([rf_preds, gb_preds]), y_train)\n",
    "rf_model = RandomForestClassifier(n_estimators=100)\n",
    "rf_model.fit(X_train, y_train)\n",
    "rf_test_preds = rf_model.predict_proba(X_test)\n",
    "gb_model.fit(X_train, y_train)\n",
    "gb_test_preds = gb_model.predict_proba(X_test)\n",
    "\n",
    "# Оцениваем качество модели на тестовых данных\n",
    "\n",
    "meta_test_preds = meta_model.predict_proba(np.hstack([rf_test_preds, gb_test_preds]))\n",
    "accuracy = meta_model.score(np.hstack([rf_test_preds, gb_test_preds]), y_test)\n",
    "print(\"Accuracy:\", accuracy)"
   ]
  },
  {
   "cell_type": "code",
   "execution_count": 6,
   "id": "d49b625e",
   "metadata": {},
   "outputs": [
    {
     "name": "stdout",
     "output_type": "stream",
     "text": [
      "Accuracy of Bagging Classifier: 39.47%\n",
      "Accuracy of Random Forest Classifier: 50.00%\n",
      "Accuracy of Stacking: 44.74%\n"
     ]
    },
    {
     "data": {
      "image/png": "[encoded data removed]",
      "text/plain": [
       "<Figure size 640x480 with 1 Axes>"
      ]
     },
     "metadata": {},
     "output_type": "display_data"
    }
   ],
   "source": [
    "\n",
    "# Создаем три модели: решающее дерево, бэггинг и случайный лес\n",
    "\n",
    "bg = gb_model\n",
    "rf = rf_model\n",
    "\n",
    "# Обучаем модели на обучающей выборке\n",
    "\n",
    "bg.fit(X_train, y_train)\n",
    "rf.fit(X_train, y_train)\n",
    "\n",
    "# Получаем предсказания на тестовой выборке\n",
    "\n",
    "bg_pred = bg.predict(X_test)\n",
    "rf_pred = rf.predict(X_test)\n",
    "\n",
    "# Вычисляем точность предсказания каждой модели\n",
    "\n",
    "bg_acc = accuracy_score(y_test, bg_pred)\n",
    "rf_acc = accuracy_score(y_test, rf_pred)\n",
    "\n",
    "# Выводим точность каждой модели на экран\n",
    "\n",
    "print(\"Accuracy of Bagging Classifier: {:.2f}%\".format(bg_acc*100))\n",
    "print(\"Accuracy of Random Forest Classifier: {:.2f}%\".format(rf_acc*100))\n",
    "print(\"Accuracy of Stacking: {:.2f}%\".format(accuracy*100))\n",
    "\n",
    "# Создаем график точности предсказания каждой модели\n",
    "models = [ 'Bagging', 'Random Forest', 'Stacking']\n",
    "accuracies = [ bg_acc, rf_acc, accuracy]\n",
    "plt.bar(models, accuracies)\n",
    "plt.ylabel('Accuracy')\n",
    "plt.title('Classifier Accuracy Comparison')\n",
    "plt.show()\n"
   ]
  },
  {
   "cell_type": "code",
   "execution_count": null,
   "id": "864ca152",
   "metadata": {},
   "outputs": [],
   "source": []
  }
 ],
 "metadata": {
  "kernelspec": {
   "display_name": "Python 3 (ipykernel)",
   "language": "python",
   "name": "python3"
  },
  "language_info": {
   "codemirror_mode": {
    "name": "ipython",
    "version": 3
   },
   "file_extension": ".py",
   "mimetype": "text/x-python",
   "name": "python",
   "nbconvert_exporter": "python",
   "pygments_lexer": "ipython3",
   "version": "3.11.1"
  }
 },
 "nbformat": 4,
 "nbformat_minor": 5
}
